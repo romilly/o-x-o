{
 "cells": [
  {
   "cell_type": "markdown",
   "metadata": {},
   "source": [
    "# Paying the game\n",
    "\n",
    "In this notebook we'll start looking at how to play the game.\n",
    "\n",
    "First, we'll load in the work we did on symmetries in the previous notebook."
   ]
  },
  {
   "cell_type": "code",
   "execution_count": 1,
   "metadata": {},
   "outputs": [
    {
     "data": {
      "text/html": [
       "<span style=\"white-space:pre; font-family: monospace\">./notebook4.dws saved Thu Dec 10 10:13:18 2020\n",
       "</span>"
      ]
     },
     "execution_count": 1,
     "metadata": {},
     "output_type": "execute_result"
    }
   ],
   "source": [
    ")copy notebook4"
   ]
  },
  {
   "cell_type": "code",
   "execution_count": 2,
   "metadata": {},
   "outputs": [
    {
     "data": {
      "text/html": [
       "<span style=\"white-space:pre; font-family: monospace\">encode  m       r       show    \n",
       "</span>"
      ]
     },
     "execution_count": 2,
     "metadata": {},
     "output_type": "execute_result"
    }
   ],
   "source": [
    ")fns"
   ]
  },
  {
   "cell_type": "markdown",
   "metadata": {},
   "source": [
    "`)vars` is another useful system command. It shows us the names of the variables that `)copy` brought in for us."
   ]
  },
  {
   "cell_type": "code",
   "execution_count": 3,
   "metadata": {},
   "outputs": [
    {
     "data": {
      "text/html": [
       "<span style=\"white-space:pre; font-family: monospace\">board1  boards  encoded hereDir i       mi      mr180   mr270   mr90    r180    r270    r90     start   symmetries      \n",
       "</span>"
      ]
     },
     "execution_count": 3,
     "metadata": {},
     "output_type": "execute_result"
    }
   ],
   "source": [
    ")vars"
   ]
  },
  {
   "cell_type": "code",
   "execution_count": 4,
   "metadata": {},
   "outputs": [],
   "source": [
    "⎕io ← 0"
   ]
  },
  {
   "cell_type": "markdown",
   "metadata": {},
   "source": [
    "## Using symmetries\n",
    "\n",
    "Let's start by looking at how we can use our work on symmetries to reduce the number of board positions we need to consider when playing.\n",
    "\n",
    "For any given board position there are up to seven other positions that are equivalent to it.\n",
    "\n",
    "Why did I say *up to*?\n",
    "\n",
    "Some board configurations are symmetric, so some transformations will leave them unchanged.\n",
    "\n",
    "Here's an extreme example. Imagine that `x` has played in the centre of the board.\n",
    "The board is the same whether you rotate it, reflect it, combine rotations and reflections or leave it unchanged.\n"
   ]
  },
  {
   "cell_type": "code",
   "execution_count": 5,
   "metadata": {},
   "outputs": [
    {
     "data": {
      "text/html": [
       "<span style=\"white-space:pre; font-family: monospace\">...\n",
       ".×.\n",
       "...\n",
       "</span>"
      ]
     },
     "execution_count": 5,
     "metadata": {},
     "output_type": "execute_result"
    }
   ],
   "source": [
    " ⊢ symmetric ← 3 3⍴'....×....'"
   ]
  },
  {
   "cell_type": "markdown",
   "metadata": {},
   "source": [
    "To examine the symmetries using APL we need to convert the board to its vector representation.\n",
    "\n",
    "Let's create a function to do that."
   ]
  },
  {
   "cell_type": "code",
   "execution_count": 6,
   "metadata": {},
   "outputs": [],
   "source": [
    "see←{{,'.×○'⍳⍵}⍤2⊣⍵}"
   ]
  },
  {
   "cell_type": "markdown",
   "metadata": {},
   "source": [
    "It's a little more complicated than you might expect becasue it can handle arrays of boards as well as individual boards.\n",
    "\n",
    "Let's try it out."
   ]
  },
  {
   "cell_type": "code",
   "execution_count": 11,
   "metadata": {},
   "outputs": [
    {
     "data": {
      "text/html": [
       "<span style=\"white-space:pre; font-family: monospace\">0 0 0 0 1 0 0 0 0\n",
       "</span>"
      ]
     },
     "execution_count": 11,
     "metadata": {},
     "output_type": "execute_result"
    }
   ],
   "source": [
    "+sym ← see symmetric"
   ]
  },
  {
   "cell_type": "markdown",
   "metadata": {},
   "source": [
    "You can think of `see` as an inverse to `show`.\n",
    "\n",
    "Let's check the symmetric transformations on the board."
   ]
  },
  {
   "cell_type": "code",
   "execution_count": 12,
   "metadata": {},
   "outputs": [
    {
     "data": {
      "text/html": [
       "<span style=\"white-space:pre; font-family: monospace\">0 0 0 0 1 0 0 0 0\n",
       "0 0 0 0 1 0 0 0 0\n",
       "0 0 0 0 1 0 0 0 0\n",
       "0 0 0 0 1 0 0 0 0\n",
       "0 0 0 0 1 0 0 0 0\n",
       "0 0 0 0 1 0 0 0 0\n",
       "0 0 0 0 1 0 0 0 0\n",
       "0 0 0 0 1 0 0 0 0\n",
       "</span>"
      ]
     },
     "execution_count": 12,
     "metadata": {},
     "output_type": "execute_result"
    }
   ],
   "source": [
    "sym[symmetries]"
   ]
  },
  {
   "cell_type": "markdown",
   "metadata": {},
   "source": [
    "They are all identical (as they should be).\n",
    "\n",
    "How can we get rid of the redundant copies?\n",
    "\n",
    "APL has a primitive function *Unique* represented as `∪` which does just that."
   ]
  },
  {
   "cell_type": "code",
   "execution_count": 16,
   "metadata": {},
   "outputs": [
    {
     "data": {
      "text/html": [
       "<span style=\"white-space:pre; font-family: monospace\">0 0 0 0 1 0 0 0 0\n",
       "</span>"
      ]
     },
     "execution_count": 16,
     "metadata": {},
     "output_type": "execute_result"
    }
   ],
   "source": [
    "∪sym[symmetries] ⍝ the unique version"
   ]
  },
  {
   "cell_type": "markdown",
   "metadata": {},
   "source": [
    "Let's look at a position with some symmetry."
   ]
  },
  {
   "cell_type": "code",
   "execution_count": 22,
   "metadata": {},
   "outputs": [
    {
     "data": {
      "text/html": [
       "<span style=\"white-space:pre; font-family: monospace\">.×.\n",
       "×○×\n",
       "...\n",
       "</span>"
      ]
     },
     "execution_count": 22,
     "metadata": {},
     "output_type": "execute_result"
    }
   ],
   "source": [
    "⊢ asymmetric ← 3 3⍴'.×.×○×...'"
   ]
  },
  {
   "cell_type": "code",
   "execution_count": 23,
   "metadata": {},
   "outputs": [
    {
     "data": {
      "text/html": [
       "<span style=\"white-space:pre; font-family: monospace\">0 1 0 1 2 1 0 0 0\n",
       "</span>"
      ]
     },
     "execution_count": 23,
     "metadata": {},
     "output_type": "execute_result"
    }
   ],
   "source": [
    "+less ← see asymmetric"
   ]
  },
  {
   "cell_type": "code",
   "execution_count": 24,
   "metadata": {},
   "outputs": [
    {
     "data": {
      "text/html": [
       "<span style=\"white-space:pre; font-family: monospace\">0 1 0 1 2 1 0 0 0\n",
       "0 1 0 0 2 1 0 1 0\n",
       "0 0 0 1 2 1 0 1 0\n",
       "0 1 0 1 2 0 0 1 0\n",
       "0 1 0 1 2 1 0 0 0\n",
       "0 1 0 1 2 0 0 1 0\n",
       "0 0 0 1 2 1 0 1 0\n",
       "0 1 0 0 2 1 0 1 0\n",
       "</span>"
      ]
     },
     "execution_count": 24,
     "metadata": {},
     "output_type": "execute_result"
    }
   ],
   "source": [
    "less[symmetries]"
   ]
  },
  {
   "cell_type": "code",
   "execution_count": 25,
   "metadata": {},
   "outputs": [
    {
     "data": {
      "text/html": [
       "<span style=\"white-space:pre; font-family: monospace\">0 1 0 1 2 1 0 0 0\n",
       "0 1 0 0 2 1 0 1 0\n",
       "0 0 0 1 2 1 0 1 0\n",
       "0 1 0 1 2 0 0 1 0\n",
       "</span>"
      ]
     },
     "execution_count": 25,
     "metadata": {},
     "output_type": "execute_result"
    }
   ],
   "source": [
    "∪less[symmetries]"
   ]
  },
  {
   "cell_type": "markdown",
   "metadata": {},
   "source": [
    "Now there are four distinct transformations.\n",
    "\n",
    "Let's see what they are."
   ]
  },
  {
   "cell_type": "code",
   "execution_count": 27,
   "metadata": {
    "scrolled": true
   },
   "outputs": [
    {
     "data": {
      "text/html": [
       "<span style=\"white-space:pre; font-family: monospace\">┌───┬───┬───┬───┐\n",
       "│.×.│.×.│...│.×.│\n",
       "│×○×│.○×│×○×│×○.│\n",
       "│...│.×.│.×.│.×.│\n",
       "└───┴───┴───┴───┘\n",
       "</span>"
      ]
     },
     "execution_count": 27,
     "metadata": {},
     "output_type": "execute_result"
    }
   ],
   "source": [
    "⊂⍤2 show ∪less[symmetries]"
   ]
  },
  {
   "cell_type": "code",
   "execution_count": 29,
   "metadata": {},
   "outputs": [
    {
     "data": {
      "text/html": [
       "<span style=\"white-space:pre; font-family: monospace\">××.\n",
       ".○○\n",
       ".×.\n",
       "</span>"
      ]
     },
     "execution_count": 29,
     "metadata": {},
     "output_type": "execute_result"
    }
   ],
   "source": [
    "show board1"
   ]
  },
  {
   "cell_type": "code",
   "execution_count": 31,
   "metadata": {},
   "outputs": [
    {
     "data": {
      "text/html": [
       "<span style=\"white-space:pre; font-family: monospace\">┌───┬───┬───┬───┬───┬───┬───┬───┐\n",
       "│××.│..×│.×.│.○.│.××│×..│.×.│.○.│\n",
       "│.○○│×○×│○○.│×○×│○○.│×○×│.○○│×○×│\n",
       "│.×.│.○.│.××│×..│.×.│.○.│××.│..×│\n",
       "└───┴───┴───┴───┴───┴───┴───┴───┘\n",
       "</span>"
      ]
     },
     "execution_count": 31,
     "metadata": {},
     "output_type": "execute_result"
    }
   ],
   "source": [
    "⊂⍤2 show ∪board1[symmetries]"
   ]
  },
  {
   "cell_type": "markdown",
   "metadata": {},
   "source": [
    "`board1` is asymmetric and so it has eight distinct symmetries."
   ]
  },
  {
   "cell_type": "markdown",
   "metadata": {},
   "source": [
    "## Canonical representations\n",
    "\n",
    "In order to apply Michie's first simplification we need a way of converting every board position to *just one* of its symmetries.\n",
    "\n",
    "We'll use the idea of a *canonical representation*. I've borrowed that term from Mathematics, but the mathematical details don't matter to us.\n",
    "You'll see how we create and use canonical representations in below.\n",
    "\n",
    "### Defining a position's canonical representation\n",
    "\n",
    "As we've seen, every board position is a member of a set of one to eight boards which can be regarded as the same as far as the game is concerned.\n",
    "\n",
    "The functions `encode` and `decode` allow us to switch between the vector representation of the position and a number in the range zero to 19682.\n",
    "\n",
    "The symmetries of a given position form a set of up to eight vectors, and each vector can be converted to its unique number using `decode`.\n",
    "We'll take the smallest of those numbers, convert that to a vector and use that as the canonical representation of the position."
   ]
  },
  {
   "cell_type": "markdown",
   "metadata": {},
   "source": [
    "Let's do that for the boards we just considered: `sym`, `less` and `board1`.\n",
    " We are going to perform the same operation on each, so we can save time by defining a function to do it."
   ]
  },
  {
   "cell_type": "code",
   "execution_count": 53,
   "metadata": {},
   "outputs": [
    {
     "data": {
      "text/html": [
       "<span style=\"white-space:pre; font-family: monospace\">...\n",
       ".×.\n",
       "...\n",
       "</span>"
      ]
     },
     "execution_count": 53,
     "metadata": {},
     "output_type": "execute_result"
    }
   ],
   "source": [
    "canonical ← {encode ⌊⌿ decode ⍵[symmetries]}\n",
    "show canonical sym"
   ]
  },
  {
   "cell_type": "code",
   "execution_count": 54,
   "metadata": {},
   "outputs": [
    {
     "data": {
      "text/html": [
       "<span style=\"white-space:pre; font-family: monospace\">...\n",
       "×○×\n",
       ".×.\n",
       "</span>"
      ]
     },
     "execution_count": 54,
     "metadata": {},
     "output_type": "execute_result"
    }
   ],
   "source": [
    "show canonical less"
   ]
  },
  {
   "cell_type": "code",
   "execution_count": 55,
   "metadata": {},
   "outputs": [
    {
     "data": {
      "text/html": [
       "<span style=\"white-space:pre; font-family: monospace\">..×\n",
       "×○×\n",
       ".○.\n",
       "</span>"
      ]
     },
     "execution_count": 55,
     "metadata": {},
     "output_type": "execute_result"
    }
   ],
   "source": [
    "show canonical board1"
   ]
  },
  {
   "cell_type": "markdown",
   "metadata": {},
   "source": [
    "Can we find out the canonical representations of all positions?\n",
    "\n",
    "Let's try"
   ]
  },
  {
   "cell_type": "code",
   "execution_count": 58,
   "metadata": {},
   "outputs": [
    {
     "name": "stderr",
     "output_type": "stream",
     "text": [
      "RANK ERROR\n",
      "canonical[0] canonical←{encode⌊⌿decode ⍵[symmetries]}\n",
      "                                        ∧\n"
     ]
    }
   ],
   "source": [
    "all ← canonical encode ⍳3*9"
   ]
  },
  {
   "cell_type": "markdown",
   "metadata": {},
   "source": [
    "What's gone wrong?\n",
    "\n",
    "We've used a simple version of indexing in the definition of canonical.\n",
    "The `[]` form of indexing corresponds to the notation that is used in a lot of programming languages, but the format is slightly different for vectors and matrices.\n",
    "\n",
    "Luckily APL has another form of indexing based on  the *Index function* represented as `⌷`.\n",
    "\n",
    "You can see how it works in the example below."
   ]
  },
  {
   "cell_type": "code",
   "execution_count": 65,
   "metadata": {},
   "outputs": [
    {
     "data": {
      "text/html": [
       "<span style=\"white-space:pre; font-family: monospace\">7 10 9\n",
       "</span>"
      ]
     },
     "execution_count": 65,
     "metadata": {},
     "output_type": "execute_result"
    }
   ],
   "source": [
    "(⊂0 3 2)⌷7 8 9 10 20"
   ]
  },
  {
   "cell_type": "markdown",
   "metadata": {},
   "source": [
    "I've called the function we want `ild`, which is short for *index last dimension*.\n",
    "\n",
    "Here's its definition, along with an updated definition of canonical.\n",
    "\n",
    "#TODO: add canonical"
   ]
  },
  {
   "cell_type": "markdown",
   "metadata": {},
   "source": [
    "ild ← {(⊂⍺) ⌷[¯1+⍴⍴⍵]⍵} ⍝ index last dimension\n"
   ]
  },
  {
   "cell_type": "code",
   "execution_count": null,
   "metadata": {},
   "outputs": [],
   "source": []
  }
 ],
 "metadata": {
  "kernelspec": {
   "display_name": "Dyalog APL",
   "language": "apl",
   "name": "dyalog-kernel"
  },
  "language_info": {
   "file_extension": ".apl",
   "mimetype": "text/apl",
   "name": "APL"
  }
 },
 "nbformat": 4,
 "nbformat_minor": 4
}