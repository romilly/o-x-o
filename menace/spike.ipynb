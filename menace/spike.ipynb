{
 "cells": [
  {
   "cell_type": "code",
   "execution_count": 13,
   "metadata": {},
   "outputs": [
    {
     "data": {
      "text/html": [
       "<span style=\"white-space:pre; font-family: monospace\">┌───┬───┬───┬───┬───┬───┬───┬───┬───┬───┐\n",
       "│...│×..│×..│×.×│×○×│×○×│×○×│×○×│×○×│×○×│\n",
       "│...│...│...│...│...│.×.│.×○│××○│××○│××○│\n",
       "│...│...│○..│○..│○..│○..│○..│○..│○○.│○○×│\n",
       "└───┴───┴───┴───┴───┴───┴───┴───┴───┴───┘\n",
       "</span>"
      ]
     },
     "execution_count": 13,
     "metadata": {},
     "output_type": "execute_result"
    }
   ],
   "source": [
    "⎕io ← 0\n",
    "\n",
    "show ← {3 3⍴⍤ 1 ⊢'.×○'[⍵]} ⍝ display position\n",
    "list ← {⊂⍤2 show ⍵} ⍝ spread boards across the page\n",
    "ild ← {(⊂⍺) ⌷[¯1+⍴⍴⍵]⍵} ⍝ index last dimension\n",
    "np ← {1+>/+/1 2∘.=⍵} ⍝ next player\n",
    "cg ← {0⊃⍵} ⍝ current game from config\n",
    "p ← {,¯1↑⍵} ⍝ current position from game\n",
    "random_player ← {cf ← ⍵ ⋄ g ← cg ⍵ ⋄ cp ← p g ⋄ i ← ⍸e←0=cp ⋄ cp[i[?+/e]] ← np cp ⋄ g ← g⍪ cp ⋄ cf[0]←⊂g ⋄ cf }\n",
    "wpi ← {rows ← ⍵ ⋄ cols ← ⍉⍵ ⋄ diagonals ← 2 3⍴↑(0 0⍉⍵) (0 0⍉⌽⍵) ⋄ ⊃⍪/rows cols diagonals} 3 3⍴⍳9 ⍝ winning indices\n",
    "wf ← {∨⌿∨/^/1 2∘.=wpi ild ⍵} ⍝ is this a win?\n",
    "draw ← {0=+/0=⍵} ⍝ is the game drawn?\n",
    "game_over←wf ∨ draw ⍝ the game is over if it's been won or drawn\n",
    "over_checker←{game_over p cg ⍵:⍵ ⋄ ⍺⍺ ⍵} ⍝ if the game is over, do nothing; otherwise invoke the player\n",
    "play_round ← {cf ← ⍵ ⋄ cf ← ⍺⍺ over_checker cf ⋄cf ← ⍵⍵ over_checker cf ⋄ cf}\n",
    "game_runner ← {cf ← ⍵ ⋄ cf[0] ← ⊂1 9⍴0 ⋄ cf ←(⍺⍺ play_round ⍵⍵)⍣≡cf ⋄ cf}\n",
    "\n",
    "config ← random_player game_runner random_player⊢(1 9⍴0) ⍬\n",
    "list cg config"
   ]
  },
  {
   "cell_type": "code",
   "execution_count": 14,
   "metadata": {},
   "outputs": [
    {
     "data": {
      "text/html": [
       "<span style=\"white-space:pre; font-family: monospace\">was \n",
       "</span>"
      ]
     },
     "execution_count": 14,
     "metadata": {},
     "output_type": "execute_result"
    }
   ],
   "source": [
    ")wsid spike"
   ]
  },
  {
   "cell_type": "code",
   "execution_count": 15,
   "metadata": {},
   "outputs": [
    {
     "data": {
      "text/html": [
       "<span style=\"white-space:pre; font-family: monospace\">spike.dws saved Sun Dec 20 15:26:39 2020\n",
       "</span>"
      ]
     },
     "execution_count": 15,
     "metadata": {},
     "output_type": "execute_result"
    }
   ],
   "source": [
    ")save"
   ]
  },
  {
   "cell_type": "code",
   "execution_count": null,
   "metadata": {},
   "outputs": [],
   "source": []
  }
 ],
 "metadata": {
  "kernelspec": {
   "display_name": "Dyalog APL",
   "language": "apl",
   "name": "dyalog-kernel"
  },
  "language_info": {
   "file_extension": ".apl",
   "mimetype": "text/apl",
   "name": "APL"
  }
 },
 "nbformat": 4,
 "nbformat_minor": 4
}
