{
 "cells": [
  {
   "cell_type": "markdown",
   "metadata": {},
   "source": [
    "# Implementing The MENACE Player"
   ]
  },
  {
   "cell_type": "markdown",
   "metadata": {},
   "source": [
    "### Tracking MENACE's Beads\n",
    "\n",
    "The original MATCHBOX-based MENACE remembered the consequences of past games using matchboxes and beads.\n",
    "1. It used one matchbox for each board position that MENACE might enounter.\n",
    "1. Each machbox was labelled. The label showed the position represented by the box, and showed each possible move from that position. Possible moves were shown in different colours.\n",
    "1. Each matchbox contained beads of colours that matched those on the label. The beads determined the probability that MENACE would make the corresponding move.\n",
    "\n",
    "In our implementation we will maintain the bead information as a two element vector, with each element an array.\n",
    "\n",
    "The first element will be a vector of decoded (numerical) canonical possible positions.\n",
    "The second element will be a matrix of bead counts, with one row per possible position and 9 columns.\n",
    "\n",
    "Each column will corespond to one of the cells in the game board, and will contain the number of virtual beads corresponding to that move. Some moves will not be possible from the starting position. We will initialse those bead counts to zero, and they will never get updated, since the correponding moves will never be made.\n",
    "\n",
    "The values for possible moves will be initialised to some fixed number when a new MENACE configuration is created, and will then get adjusted at the end of each game by MENACE's learning rule.\n",
    "\n",
    "The bead data will form a new third element of the MENACE configuration.\n",
    "\n",
    "### MENACE's Learning Rule\n",
    "\n",
    "At the end of a game MENACE adjusted the bead counts.\n",
    "1. If MENACE *won* it added three beads of the same colour matching those picked during the game.\n",
    "1. If MENACE *drew* it added one bead of the appropriate colour to each matchbox used.\n",
    "1. If MENACE *lost* it removed three beads of the appropriate colour from each matchbox used.\n",
    "\n",
    "We'll do the same to our virtual bead counts.\n",
    "\n",
    "Let's look at how to initialise the virtual bead data. MENACE started with 20 beads in each matchbox, but we will make that a changeable parameter called starting_count."
   ]
  },
  {
   "cell_type": "markdown",
   "metadata": {},
   "source": [
    "The bead data is a two-element vector.\n",
    "\n",
    "The first is a vector of decoded plausible canonical positions. We saved that earlier in a variable `ucpn`.\n",
    "\n",
    "The second is a matrix of bead counts, with one row for each position in `ucpn`, and nine columns corrspnding to the nine squares on the board. Each column shoud contain the initial bean count for those positions that are empty, and zero for each position that has already been filled."
   ]
  },
  {
   "cell_type": "code",
   "execution_count": 3,
   "metadata": {},
   "outputs": [],
   "source": [
    "starting_count ← 20\n",
    "bc ← ((⍴ucpn),9)⍴ starting_count"
   ]
  },
  {
   "cell_type": "markdown",
   "metadata": {},
   "source": [
    "Let's start by copying in our earlier work."
   ]
  },
  {
   "cell_type": "code",
   "execution_count": null,
   "metadata": {},
   "outputs": [],
   "source": [
    ")copy notebook7"
   ]
  },
  {
   "cell_type": "code",
   "execution_count": null,
   "metadata": {},
   "outputs": [],
   "source": [
    "⎕io ← 0"
   ]
  },
  {
   "cell_type": "markdown",
   "metadata": {},
   "source": [
    "Now we need to set the bead counts to zero for each position that has been filled.\n",
    "\n",
    "We'll do that in stages. First we'll convert encode values in `ucpn`, That will give us a matrix `ucp` with one row per position and one column per board position.\n",
    "\n",
    "Next we'll look for the non-zeros in `ucp`, keep the corresponding positions of bead counts unchanged, and set the rest to zero."
   ]
  },
  {
   "cell_type": "code",
   "execution_count": 4,
   "metadata": {},
   "outputs": [],
   "source": [
    "ucp ← encode ucpn ⍝ a matric with one board position per row\n",
    "non_zero ← 0≠ucp ⍝ a matrix with a 1 for each non-empty position and a 0 for every empty one.\n",
    "bc ← bc × non_zero"
   ]
  },
  {
   "cell_type": "code",
   "execution_count": 5,
   "metadata": {},
   "outputs": [
    {
     "data": {
      "text/html": [
       "<span style=\"white-space:pre; font-family: monospace\">┌───┬───┬───┬───┬───┐\n",
       "│...│...│...│...│...│\n",
       "│...│...│...│...│...│\n",
       "│...│..×│.×.│.×○│.○×│\n",
       "└───┴───┴───┴───┴───┘\n",
       "</span>"
      ]
     },
     "execution_count": 5,
     "metadata": {},
     "output_type": "execute_result"
    }
   ],
   "source": [
    "list 5↑ucp"
   ]
  },
  {
   "cell_type": "code",
   "execution_count": 6,
   "metadata": {},
   "outputs": [
    {
     "data": {
      "text/html": [
       "<span style=\"white-space:pre; font-family: monospace\">0 0 0 0 0 0 0  0  0\n",
       "0 0 0 0 0 0 0  0 20\n",
       "0 0 0 0 0 0 0 20  0\n",
       "0 0 0 0 0 0 0 20 20\n",
       "0 0 0 0 0 0 0 20 20\n",
       "</span>"
      ]
     },
     "execution_count": 6,
     "metadata": {},
     "output_type": "execute_result"
    }
   ],
   "source": [
    "5↑bc"
   ]
  },
  {
   "cell_type": "markdown",
   "metadata": {},
   "source": [
    "That looks correct. Let's turn that into a function `initial_counts` which will take the intial counts as its  argument. "
   ]
  },
  {
   "cell_type": "code",
   "execution_count": 7,
   "metadata": {},
   "outputs": [],
   "source": [
    "initial_counts ← { bc ← ((⍴ucpn),9)⍴ ⍵ ⋄ bc × 0≠encode ucpn}"
   ]
  },
  {
   "cell_type": "code",
   "execution_count": 8,
   "metadata": {},
   "outputs": [
    {
     "data": {
      "text/html": [
       "<span style=\"white-space:pre; font-family: monospace\">0 0 0 0 0 0 0  0  0\n",
       "0 0 0 0 0 0 0  0 20\n",
       "0 0 0 0 0 0 0 20  0\n",
       "0 0 0 0 0 0 0 20 20\n",
       "0 0 0 0 0 0 0 20 20\n",
       "</span>"
      ]
     },
     "execution_count": 8,
     "metadata": {},
     "output_type": "execute_result"
    }
   ],
   "source": [
    "5↑initial_counts 20"
   ]
  },
  {
   "cell_type": "markdown",
   "metadata": {},
   "source": [
    "Now we can easily create the extended initial configuration."
   ]
  },
  {
   "cell_type": "markdown",
   "metadata": {},
   "source": [
    "The third element contains `ucpn` and the intial counts.\n",
    "\n",
    "We'll write a function called `initialise` which will take the initial bead count as its argument."
   ]
  },
  {
   "cell_type": "code",
   "execution_count": 9,
   "metadata": {},
   "outputs": [],
   "source": [
    "initialise ← {(ucpn initial_counts ⍵) (1 9⍴0) ⍬}\n",
    "config ← initialise 20"
   ]
  },
  {
   "cell_type": "code",
   "execution_count": 2,
   "metadata": {},
   "outputs": [],
   "source": [
    "⎕io ← 0"
   ]
  },
  {
   "cell_type": "code",
   "execution_count": 22,
   "metadata": {},
   "outputs": [
    {
     "data": {
      "text/html": [
       "<span style=\"white-space:pre; font-family: monospace\">notebook7.dws saved Sun Dec 20 08:02:46 2020\n",
       "</span>"
      ]
     },
     "execution_count": 22,
     "metadata": {},
     "output_type": "execute_result"
    }
   ],
   "source": [
    ")save notebook8 -force"
   ]
  },
  {
   "cell_type": "code",
   "execution_count": null,
   "metadata": {},
   "outputs": [],
   "source": []
  }
 ],
 "metadata": {
  "kernelspec": {
   "display_name": "Dyalog APL",
   "language": "apl",
   "name": "dyalog-kernel"
  },
  "language_info": {
   "file_extension": ".apl",
   "mimetype": "text/apl",
   "name": "APL"
  }
 },
 "nbformat": 4,
 "nbformat_minor": 4
}
