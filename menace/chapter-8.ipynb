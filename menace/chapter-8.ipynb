{
 "cells": [
  {
   "cell_type": "markdown",
   "metadata": {},
   "source": [
    "# Implementing The MENACE Player"
   ]
  },
  {
   "cell_type": "markdown",
   "metadata": {},
   "source": [
    "### Tracking MENACE's Beads\n",
    "\n",
    "The original MATCHBOX-based MENACE remembered the lessons from past games using matchboxes and beads.\n",
    "1. It used one matchbox for each board position that MENACE might enounter.\n",
    "1. Each machbox was labelled. The label showed the position represented by the box, and showed each possible move from that position. Possible moves were shown in different colours.\n",
    "1. Each matchbox contained beads of colours that matched those on the label. The beads determined the probability that MENACE would make the corresponding move.\n",
    "\n",
    "In our implementation we will maintain the bead information as a two element vector, with each element an array.\n",
    "\n",
    "The first element will be a vector of decoded (numerical) positions.\n",
    "The second element will be a matrix of bead counts, with one row per possible position and 9 columns.\n",
    "\n",
    "Each column will corespond to one of the possible moves from the position, and will contain the number of virtual beads corresponding to that move. Some moves will not be possible because the sqare is already occupied. We will initialse the bead counts for such positions to zero, and the counts will never get updated, since the correponding moves will never be made.\n",
    "\n",
    "TODO: Add illustration of a position (in vector and display form) and its bead counts\n",
    "\n",
    "The values for possible moves will be initialised to some fixed number when a new MENACE configuration is created, and will then get adjusted at the end of each game by MENACE's learning rule.\n",
    "\n",
    "The bead data will form a new third element of the MENACE configuration.\n",
    "\n",
    "### MENACE's Learning Rule\n",
    "\n",
    "At the end of a game MENACE adjusted the bead counts.\n",
    "1. If MENACE *won* it added three beads of the same colour matching those picked during the game.\n",
    "1. If MENACE *drew* it added one bead of the appropriate colour to each matchbox used.\n",
    "1. If MENACE *lost* it removed three beads of the appropriate colour from each matchbox used.\n",
    "\n",
    "We'll do the same to our virtual bead counts."
   ]
  },
  {
   "cell_type": "markdown",
   "metadata": {},
   "source": [
    "Let's start by copying in our earlier work."
   ]
  },
  {
   "cell_type": "code",
   "execution_count": 1,
   "metadata": {},
   "outputs": [
    {
     "data": {
      "text/html": [
       "<span style=\"white-space:pre; font-family: monospace\">done\n",
       "</span>"
      ]
     },
     "execution_count": 1,
     "metadata": {},
     "output_type": "execute_result"
    },
    {
     "data": {
      "text/html": [
       "<span style=\"white-space:pre; font-family: monospace\">./notebook7.dws saved Mon Dec 21 09:30:16 2020\n",
       "</span>"
      ]
     },
     "execution_count": 1,
     "metadata": {},
     "output_type": "execute_result"
    }
   ],
   "source": [
    ")copy notebook7"
   ]
  },
  {
   "cell_type": "code",
   "execution_count": 2,
   "metadata": {},
   "outputs": [],
   "source": [
    "⎕io ← 0"
   ]
  },
  {
   "cell_type": "markdown",
   "metadata": {},
   "source": [
    "## Simplifying MENACE's Approach\n",
    "\n",
    "In his original design for MENACE, Donald Michie eliminated redundant board positions from consideration and specified that MENACE always made the first move.\n",
    "\n",
    "He did this in order to reduce the number of machboxes required to a manageable number. A secondary benefit was that one game could provide reinforement for a whole family of symetric versions. \n",
    "\n",
    "Since we are representing the matchboxed by values in an array we are not constrained in the same way, and the time taken to train the system is also less of a problem.\n",
    "\n",
    "We'll also allow a `menace_player` to be the first or second player.\n",
    "\n",
    "We'll need more code to match a real game position to its canonical representation, so we won't do so in this chapter. We could maintain a virtual moatchbox for beads for every  possible position, but many of those could never occur in play. We can reduce the 19683 positions considerably by using the `ok` function which checks the number of `×`s and `○`s.\n",
    "\n",
    "Let's see how many positions are `ok`."
   ]
  },
  {
   "cell_type": "code",
   "execution_count": 3,
   "metadata": {},
   "outputs": [
    {
     "data": {
      "text/html": [
       "<span style=\"white-space:pre; font-family: monospace\">6046\n",
       "</span>"
      ]
     },
     "execution_count": 3,
     "metadata": {},
     "output_type": "execute_result"
    }
   ],
   "source": [
    "all ← encode numbers← ⍳3*9 ⍝ all possible positions\n",
    "ok←{0 1∊⍨-⌿+/1 2∘.=⍵}      ⍝ do positions have counts of × and ○ that could occur in play?\n",
    "good ← (ok all)/numbers    ⍝ all positions are *ok* by that defintion\n",
    "⍴good                      ⍝ how many positions are ok?"
   ]
  },
  {
   "cell_type": "markdown",
   "metadata": {},
   "source": [
    "That would be a lot of matchboxes, but an APL array of that size is not a problem on a modern computer.\n",
    "\n",
    "We'll maintain virtual bean counts for each position in `good`"
   ]
  },
  {
   "cell_type": "markdown",
   "metadata": {},
   "source": [
    "The bead data is a two-element vector.\n",
    "\n",
    "The first is a `good` - a vector of decoded positions. We saved that earlier in a variable `ucpn`.\n",
    "\n",
    "The second is a matrix of bead counts, with one row for each position in `good`, and nine columns corrspnding to the nine squares on the board. Each column shoud contain the initial bean count for those positions that are empty, and zero for each position that has already been filled."
   ]
  },
  {
   "cell_type": "markdown",
   "metadata": {},
   "source": [
    "Let's look at how to initialise the virtual bead data. MENACE started with 20 beads in each matchbox, but we will make that a changeable parameter called starting_count."
   ]
  },
  {
   "cell_type": "code",
   "execution_count": 4,
   "metadata": {},
   "outputs": [],
   "source": [
    "starting_count ← 20\n",
    "bc ← ((⍴good),9)⍴ starting_count"
   ]
  },
  {
   "cell_type": "markdown",
   "metadata": {},
   "source": [
    "Now we need to set the bead counts to zero for each position that has been filled.\n",
    "\n",
    "We'll do that in stages. First we'll convert encode values in `ucpn`, That will give us a matrix `ucp` with one row per position and one column per board position.\n",
    "\n",
    "Next we'll look for the non-zeros in `ucp`, keep the corresponding positions of bead counts unchanged, and set the rest to zero."
   ]
  },
  {
   "cell_type": "code",
   "execution_count": 5,
   "metadata": {},
   "outputs": [],
   "source": [
    "gbp ← encode good ⍝ a matrix with one board position per row\n",
    "zero ← 0=gbp ⍝ a matrix with a 1 for each non-empty position and a 0 for every empty one.\n",
    "bc ← bc × zero"
   ]
  },
  {
   "cell_type": "code",
   "execution_count": 6,
   "metadata": {},
   "outputs": [
    {
     "data": {
      "text/html": [
       "<span style=\"white-space:pre; font-family: monospace\">┌───┬───┬───┬───┬───┐\n",
       "│...│...│...│...│...│\n",
       "│...│...│...│...│...│\n",
       "│...│..×│.×.│.×○│.○×│\n",
       "└───┴───┴───┴───┴───┘\n",
       "</span>"
      ]
     },
     "execution_count": 6,
     "metadata": {},
     "output_type": "execute_result"
    }
   ],
   "source": [
    "list 5↑gbp"
   ]
  },
  {
   "cell_type": "code",
   "execution_count": 7,
   "metadata": {
    "scrolled": true
   },
   "outputs": [
    {
     "data": {
      "text/html": [
       "<span style=\"white-space:pre; font-family: monospace\">20 20 20 20 20 20 20 20 20\n",
       "20 20 20 20 20 20 20 20  0\n",
       "20 20 20 20 20 20 20  0 20\n",
       "20 20 20 20 20 20 20  0  0\n",
       "20 20 20 20 20 20 20  0  0\n",
       "</span>"
      ]
     },
     "execution_count": 7,
     "metadata": {},
     "output_type": "execute_result"
    }
   ],
   "source": [
    "5↑bc"
   ]
  },
  {
   "cell_type": "markdown",
   "metadata": {},
   "source": [
    "That looks correct. Let's turn that into a function `initial_counts` which will take the good array is its left argument and the number of intial counts as its right argument. "
   ]
  },
  {
   "cell_type": "code",
   "execution_count": 8,
   "metadata": {},
   "outputs": [],
   "source": [
    "initial_counts ← { bc ← ((⍴⍺),9)⍴ ⍵ ⋄ bc × 0=encode ⍺}"
   ]
  },
  {
   "cell_type": "code",
   "execution_count": 9,
   "metadata": {},
   "outputs": [
    {
     "data": {
      "text/html": [
       "<span style=\"white-space:pre; font-family: monospace\">6046 9\n",
       "</span>"
      ]
     },
     "execution_count": 9,
     "metadata": {},
     "output_type": "execute_result"
    }
   ],
   "source": [
    "⍴good initial_counts 20"
   ]
  },
  {
   "cell_type": "markdown",
   "metadata": {},
   "source": [
    "Now we can easily create the extended initial configuration."
   ]
  },
  {
   "cell_type": "markdown",
   "metadata": {},
   "source": [
    "The third element contains `good` and the intial counts.\n",
    "\n",
    "We'll write a function called `initialise` which will create the initial configuration."
   ]
  },
  {
   "cell_type": "code",
   "execution_count": 10,
   "metadata": {},
   "outputs": [],
   "source": [
    "initialise ← {(1 9⍴0) ⍬ ((⍺) (⍺ initial_counts ⍵))}\n",
    "config ← good initialise 20"
   ]
  },
  {
   "cell_type": "markdown",
   "metadata": {},
   "source": [
    "Now we can start work on the implementation of `menace_player`.\n",
    "\n",
    "Like the `random_player` our `menace_player` function should expect a menace configuration as its argument, work out how to move, and return an updated configuration as its result.\n",
    "\n",
    "It will work out which move to make by looking at the bead counts for each move it could make from the current position and chosing one at random. The probablilty of each possible move should reflect the proportion of beads allocated to that move.\n",
    "\n",
    "Let's start by writing a function that will pick a move index given a vector of bead counts."
   ]
  },
  {
   "cell_type": "code",
   "execution_count": 11,
   "metadata": {},
   "outputs": [],
   "source": [
    "beads ← 2 0 1 0 3\n",
    "pick ← {(0,+\\⍵)⍸?+/⍵}"
   ]
  },
  {
   "cell_type": "code",
   "execution_count": 12,
   "metadata": {},
   "outputs": [
    {
     "data": {
      "text/html": [
       "<span style=\"white-space:pre; font-family: monospace\">0.337 0 0.171 0 0.492 0\n",
       "</span>"
      ]
     },
     "execution_count": 12,
     "metadata": {},
     "output_type": "execute_result"
    }
   ],
   "source": [
    "picks ← +/(⍳6)∘.=⍎¨1000⍴⊂'pick beads'\n",
    "picks÷+/picks"
   ]
  },
  {
   "cell_type": "code",
   "execution_count": 13,
   "metadata": {},
   "outputs": [],
   "source": [
    "cfp ← {good counts ← 2⊃⍺ ⋄ counts[good⍳decode ⍵;] }\n",
    "menace_player ← {cf ← ⍵ ⋄ g ← cg ⍵ ⋄ cp ← p g ⋄ cp[pick cf cfp cp] ← np cp ⋄ g ← g⍪cp ⋄ cf ucg g }\n",
    "config ← menace_player config"
   ]
  },
  {
   "cell_type": "code",
   "execution_count": 14,
   "metadata": {
    "scrolled": true
   },
   "outputs": [
    {
     "data": {
      "text/html": [
       "<span style=\"white-space:pre; font-family: monospace\">┌─────────────────┬──┐\n",
       "│0 0 0 0 0 0 0 0 0│¯1│\n",
       "│0 0 0 0 1 0 0 0 0│  │\n",
       "│0 0 0 0 1 0 0 2 0│  │\n",
       "│0 0 1 0 1 0 0 2 0│  │\n",
       "│2 0 1 0 1 0 0 2 0│  │\n",
       "│2 1 1 0 1 0 0 2 0│  │\n",
       "│2 1 1 0 1 0 0 2 2│  │\n",
       "│2 1 1 0 1 1 0 2 2│  │\n",
       "│2 1 1 0 1 1 2 2 2│  │\n",
       "└─────────────────┴──┘\n",
       "</span>"
      ]
     },
     "execution_count": 14,
     "metadata": {},
     "output_type": "execute_result"
    }
   ],
   "source": [
    "2↑config ← menace_player game_runner random_player⊢config"
   ]
  },
  {
   "cell_type": "code",
   "execution_count": 15,
   "metadata": {},
   "outputs": [
    {
     "data": {
      "text/html": [
       "<span style=\"white-space:pre; font-family: monospace\">¯1 0 1 0 1 ¯1 0 0 1 0 1 1 ¯1 0 ¯1 0 0 0 1 1 0 1 1 1 0 0 1 ¯1 1 ¯1 1 ¯1 0 ¯1 ¯1 1 ¯1 0 ¯1 ¯1 ¯1 1 0 0 1 1 0 ¯1 ¯1 1 1 0 0 1 0 1 ¯1 0 1 1 0 0 1 0 0 0 0 1 1 0 ¯1 ¯1 ¯1 ¯1 0 ¯1 1 0 1 ¯1 ¯1 1 ¯1 ¯1 0 0 0 0 0 ¯1 1 ¯1 ¯1 1 1 ¯1 0 ¯1 ¯1 ¯1 0\n",
       "</span>"
      ]
     },
     "execution_count": 15,
     "metadata": {},
     "output_type": "execute_result"
    }
   ],
   "source": [
    "1⊃config ← {menace_player game_runner random_player⊢⍵}⍣100⊢config"
   ]
  },
  {
   "cell_type": "code",
   "execution_count": 16,
   "metadata": {},
   "outputs": [
    {
     "data": {
      "text/html": [
       "<span style=\"white-space:pre; font-family: monospace\">notebook8.dws saved Tue Dec 22 16:45:36 2020\n",
       "</span>"
      ]
     },
     "execution_count": 16,
     "metadata": {},
     "output_type": "execute_result"
    }
   ],
   "source": [
    ")save notebook8 -force"
   ]
  },
  {
   "cell_type": "code",
   "execution_count": null,
   "metadata": {},
   "outputs": [],
   "source": []
  }
 ],
 "metadata": {
  "kernelspec": {
   "display_name": "Dyalog APL",
   "language": "apl",
   "name": "dyalog-kernel"
  },
  "language_info": {
   "file_extension": ".apl",
   "mimetype": "text/apl",
   "name": "APL"
  }
 },
 "nbformat": 4,
 "nbformat_minor": 4
}
