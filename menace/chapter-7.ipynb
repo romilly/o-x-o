{
 "cells": [
  {
   "cell_type": "markdown",
   "metadata": {},
   "source": [
    "# Implementing A Simplified MENACE Player"
   ]
  },
  {
   "cell_type": "markdown",
   "metadata": {},
   "source": [
    "### Tracking MENACE's Beads\n",
    "\n",
    "The original MATCHBOX-based MENACE remembered the lessons from past games using matchboxes and beads.\n",
    "1. It used one matchbox for each board position that MENACE might enounter.\n",
    "1. Each machbox was labelled. The label showed the position represented by the box, and showed each possible move from that position. Possible moves were shown in different colours.\n",
    "1. Each matchbox contained beads of colours that matched those on the label. The beads determined the probability that MENACE would make the corresponding move.\n",
    "\n",
    "In our implementation we will maintain the bead information as a two element vector, with each element an array.\n",
    "\n",
    "The first element will be a vector of decoded (numerical) positions.\n",
    "The second element will be a matrix of bead counts, with one row per possible position and 9 columns.\n",
    "\n",
    "Each column will corespond to one of the possible moves from the position, and will contain the number of virtual beads corresponding to that move. Some moves will not be possible because the sqare is already occupied. We will initialse the bead counts for such positions to zero, and the counts will never get updated, since the correponding moves will never be made.\n",
    "\n",
    "TODO: Add illustration of a position (in vector and display form) and its bead counts\n",
    "\n",
    "The values for possible moves will be initialised to some fixed number when a new MENACE configuration is created, and will then get adjusted at the end of each game by MENACE's learning rule.\n",
    "\n",
    "The bead data will form a new third element of the MENACE configuration.\n",
    "\n",
    "### MENACE's Learning Rule\n",
    "\n",
    "At the end of a game MENACE adjusted the bead counts.\n",
    "1. If MENACE *won* it added three beads of the same colour matching those picked during the game.\n",
    "1. If MENACE *drew* it added one bead of the appropriate colour to each matchbox used.\n",
    "1. If MENACE *lost* it removed three beads of the appropriate colour from each matchbox used.\n",
    "\n",
    "We'll extend `game_runner` to do the same to our virtual bead counts."
   ]
  },
  {
   "cell_type": "markdown",
   "metadata": {},
   "source": [
    "Let's start by copying in our earlier work."
   ]
  },
  {
   "cell_type": "code",
   "execution_count": 1,
   "metadata": {},
   "outputs": [
    {
     "data": {
      "text/html": [
       "<span style=\"white-space:pre; font-family: monospace\">done\n",
       "</span>"
      ]
     },
     "execution_count": 1,
     "metadata": {},
     "output_type": "execute_result"
    },
    {
     "data": {
      "text/html": [
       "<span style=\"white-space:pre; font-family: monospace\">./notebook6.dws saved Mon Jan 11 14:26:12 2021\n",
       "</span>"
      ]
     },
     "execution_count": 1,
     "metadata": {},
     "output_type": "execute_result"
    }
   ],
   "source": [
    ")copy notebook6"
   ]
  },
  {
   "cell_type": "code",
   "execution_count": 2,
   "metadata": {},
   "outputs": [],
   "source": [
    "⎕io ← 0"
   ]
  },
  {
   "cell_type": "markdown",
   "metadata": {},
   "source": [
    "## Simplifying And Extending MENACE's Approach\n",
    "\n",
    "In his original design for MENACE, Donald Michie eliminated redundant board positions from consideration and specified that MENACE always made the first move.\n",
    "\n",
    "He did this in order to reduce the number of machboxes required to a manageable number. A secondary benefit was that one game could provide reinforement for a whole family of symetric versions. \n",
    "\n",
    "Since we are representing the matchboxed by values in an array we are not constrained in the same way, and the time taken to train the system is also less of a problem.\n",
    "\n",
    "We'll also allow a `menace_player` to be the first or second player.\n",
    "\n",
    "We would need more code to match a real game position to its canonical representation, so we won't do so in this chapter. We could maintain a virtual matchbox for beads for every  possible position, but many of those could never occur in play. We can reduce the 19683 positions considerably by using the `ok` function which checks the number of `×`s and `○`s.\n",
    "\n",
    "Let's see how many positions are `ok`."
   ]
  },
  {
   "cell_type": "code",
   "execution_count": 3,
   "metadata": {},
   "outputs": [
    {
     "data": {
      "text/html": [
       "<span style=\"white-space:pre; font-family: monospace\">6046\n",
       "</span>"
      ]
     },
     "execution_count": 3,
     "metadata": {},
     "output_type": "execute_result"
    }
   ],
   "source": [
    "all ← encode numbers← ⍳3*9 ⍝ all possible positions\n",
    "ok←{0 1∊⍨-⌿+/1 2∘.=⍵}      ⍝ do positions have counts of × and ○ that could occur in play?\n",
    "good ← (ok all)/numbers    ⍝ find numbers of all positions that are 'ok'\n",
    "⍴good                      ⍝ how many positions are 'ok'?"
   ]
  },
  {
   "cell_type": "markdown",
   "metadata": {},
   "source": [
    "Six thousand and forty-six would be a lot of matchboxes, but an APL array of that size is not a problem on a modern computer.\n",
    "\n",
    "We'll maintain virtual bean counts for each position in `good`.\n",
    "\n",
    "The bead data has three parts which we'll store in the configuration Namespace.\n",
    "\n",
    "The first is `config.good` - a vector of decoded positions.\n",
    "\n",
    "The second is `config.beads` a matrix of bead counts, with one row for each position in `good`, and nine columns correspnding to the nine squares on the board. Each column shoud contain the initial bean count for those positions that are empty, and zero for each position that has already been filled.\n",
    "\n",
    "We'll also need to keep track of the beads that were selected by a menace player, so that we can adjust the bead counts when the game is over. We'll look at how to do that below.\n",
    "\n",
    "Let's sart by initialising the virtual bead data. MENACE started with 20 beads in each matchbox, but we will make the starting count to a changeable parameter."
   ]
  },
  {
   "cell_type": "code",
   "execution_count": 4,
   "metadata": {},
   "outputs": [],
   "source": [
    "starting_count ← 20\n",
    "bc ← ((⍴good),9)⍴ starting_count"
   ]
  },
  {
   "cell_type": "markdown",
   "metadata": {},
   "source": [
    "Now we need to set the bead counts to zero for each position that has been filled.\n",
    "\n",
    "We'll do that in stages. First we'll convert encode values in `good`, That will give us a matrix `gbp` with one good board position in each row and one column per square of the board.\n",
    "\n",
    "Next we'll look for the zeros in `gbp`, keep the corresponding positions of bead counts unchanged, and set the rest to zero."
   ]
  },
  {
   "cell_type": "code",
   "execution_count": 5,
   "metadata": {},
   "outputs": [],
   "source": [
    "gbp ← encode good ⍝ a matrix with one board position per row\n",
    "zero ← 0=gbp ⍝ a matrix with a 1 for each non-empty position and a 0 for every empty one.\n",
    "bc ← bc × zero"
   ]
  },
  {
   "cell_type": "code",
   "execution_count": 6,
   "metadata": {},
   "outputs": [
    {
     "data": {
      "text/html": [
       "<span style=\"white-space:pre; font-family: monospace\">┌───┬───┬───┬───┬───┐\n",
       "│...│...│...│...│...│\n",
       "│...│...│...│...│...│\n",
       "│...│..×│.×.│.×○│.○×│\n",
       "└───┴───┴───┴───┴───┘\n",
       "</span>"
      ]
     },
     "execution_count": 6,
     "metadata": {},
     "output_type": "execute_result"
    }
   ],
   "source": [
    "list 5↑gbp"
   ]
  },
  {
   "cell_type": "code",
   "execution_count": 7,
   "metadata": {
    "scrolled": true
   },
   "outputs": [
    {
     "data": {
      "text/html": [
       "<span style=\"white-space:pre; font-family: monospace\">20 20 20 20 20 20 20 20 20\n",
       "20 20 20 20 20 20 20 20  0\n",
       "20 20 20 20 20 20 20  0 20\n",
       "20 20 20 20 20 20 20  0  0\n",
       "20 20 20 20 20 20 20  0  0\n",
       "</span>"
      ]
     },
     "execution_count": 7,
     "metadata": {},
     "output_type": "execute_result"
    }
   ],
   "source": [
    "5↑bc"
   ]
  },
  {
   "cell_type": "markdown",
   "metadata": {},
   "source": [
    "That looks correct. Let's turn that into a function `initial_counts` which will take an array of positions as its left argument and the number of intial counts as its right argument. "
   ]
  },
  {
   "cell_type": "code",
   "execution_count": 8,
   "metadata": {},
   "outputs": [],
   "source": [
    "initial_counts ← { bc ← ((⍴⍺),9)⍴ ⍵ ⋄ bc × 0=encode ⍺}"
   ]
  },
  {
   "cell_type": "code",
   "execution_count": 9,
   "metadata": {},
   "outputs": [
    {
     "data": {
      "text/html": [
       "<span style=\"white-space:pre; font-family: monospace\">6046 9\n",
       "</span>"
      ]
     },
     "execution_count": 9,
     "metadata": {},
     "output_type": "execute_result"
    }
   ],
   "source": [
    "⍴good initial_counts 20"
   ]
  },
  {
   "cell_type": "markdown",
   "metadata": {},
   "source": [
    "Now we can easily create the extended initial configuration.\n",
    "\n",
    "We'll write a function called `init` to do that"
   ]
  },
  {
   "cell_type": "code",
   "execution_count": 10,
   "metadata": {},
   "outputs": [],
   "source": [
    "]dinput\n",
    "init ← { ⍝ create an initial configuration\n",
    "config ← ⎕ns ''\n",
    "config.game ← (1 9⍴0) \n",
    "config.results ← ⍬ \n",
    "config.good ← ⍺\n",
    "config.beads ← ⍺ initial_counts ⍵ \n",
    "config.menace_moves ← ⍬\n",
    "config }"
   ]
  },
  {
   "cell_type": "code",
   "execution_count": 11,
   "metadata": {},
   "outputs": [],
   "source": [
    "config ← good init 20"
   ]
  },
  {
   "cell_type": "markdown",
   "metadata": {},
   "source": [
    "Now we can start work on the implementation of `menace_player`.\n",
    "\n",
    "Like the `random_player`, our `menace_player` function should expect a menace configuration as its argument, work out how to move, and return an updated configuration as its result.\n",
    "\n",
    "It will work out which move to make by looking at the bead counts for each move it could make from the current position and chosing one at random. The probablilty of each possible move should reflect the proportion of beads allocated to that move.\n",
    "\n",
    "We'll also need to work out how to give the `game_runner` the data it needs to update the bead counts when the game is over.\n",
    "\n",
    "Let's start by writing a function that will pick a move index given a vector of bead counts."
   ]
  },
  {
   "cell_type": "code",
   "execution_count": 12,
   "metadata": {},
   "outputs": [],
   "source": [
    "beads ← 2 0 1 0 3 0 0 0 4\n",
    "pick ← {(0,+\\⍵)⍸?+/⍵}"
   ]
  },
  {
   "cell_type": "markdown",
   "metadata": {},
   "source": [
    "`pick` uses two APL primitives that we have not used before.\n",
    "\n",
    "*Scan*, represented by `\\`, is with `+` used to create a running total.\n",
    "\n",
    "*Interval Index*, represented by `⍸`, allows us to find which position corresponds to the random number created by `?`.\n",
    "\n",
    "Let's try out `pick`."
   ]
  },
  {
   "cell_type": "code",
   "execution_count": 13,
   "metadata": {},
   "outputs": [
    {
     "data": {
      "text/html": [
       "<span style=\"white-space:pre; font-family: monospace\">4\n",
       "</span>"
      ]
     },
     "execution_count": 13,
     "metadata": {},
     "output_type": "execute_result"
    }
   ],
   "source": [
    "pick beads ⍝ NB: the result may change each time this is run!"
   ]
  },
  {
   "cell_type": "markdown",
   "metadata": {},
   "source": [
    "Let's do a more thorough experiment.\n",
    "\n",
    "The code below creates a 100,000 element vector in which each element is the enclosed character vector `pick beads`. It then uses *execute each* `⍎¨` to execute each of those statements. It uses *outer product equals* `∘.=` to create a table with a 1 for each occurrence of the nine possible values, and adds up each row using *plus reduction* `+/`. That gives a count of how many times each possible value was chosen.\n",
    "\n",
    "Then it divides that by the total which is the number of trials. That gives us a vector of probabilites.\n",
    "\n",
    "For the given value of `beads` we would expect those to be close to 0.2 0 1.0 0 0.3 0 0 0 0.4"
   ]
  },
  {
   "cell_type": "code",
   "execution_count": 14,
   "metadata": {},
   "outputs": [
    {
     "data": {
      "text/html": [
       "<span style=\"white-space:pre; font-family: monospace\">0.20051 0 0.0998 0 0.29799 0 0 0 0.4017\n",
       "</span>"
      ]
     },
     "execution_count": 14,
     "metadata": {},
     "output_type": "execute_result"
    }
   ],
   "source": [
    "picks ← ⍎¨100000⍴⊂'pick beads'\n",
    "counts ← +/(⍳9)∘.= picks\n",
    "counts÷+/counts"
   ]
  },
  {
   "cell_type": "code",
   "execution_count": 15,
   "metadata": {},
   "outputs": [
    {
     "name": "stderr",
     "output_type": "stream",
     "text": [
      "SYNTAX ERROR\n",
      "      The results we get are very close to the expected values.\n",
      "                                                              ∧\n"
     ]
    }
   ],
   "source": [
    "The results we get are very close to the expected values."
   ]
  },
  {
   "cell_type": "code",
   "execution_count": 16,
   "metadata": {},
   "outputs": [],
   "source": [
    "]dinput\n",
    "menace_player ← { ⍝ make a move using menace's rules and save it for later bead update\n",
    "cp ← cpos ⍵.game\n",
    "counts ← ⍵.beads[⍵.good⍳decode cp;] ⍝ find the bead counts corresponding to the current position\n",
    "cp[pick counts] ← move ← np cp ⍝ pick a move and update cp\n",
    "⍵.game ⍪← cp\n",
    "⍵.menace_moves,← ⊂(decode cp) move ⍝ add position and move to the menace-based moves for this game\n",
    "⍵\n",
    "}"
   ]
  },
  {
   "cell_type": "code",
   "execution_count": 17,
   "metadata": {},
   "outputs": [
    {
     "data": {
      "text/html": [
       "<span style=\"white-space:pre; font-family: monospace\">0 0 0 0 0 0 0 0 0\n",
       "0 0 0 0 1 0 0 0 0\n",
       "</span>"
      ]
     },
     "execution_count": 17,
     "metadata": {},
     "output_type": "execute_result"
    }
   ],
   "source": [
    "config ← menace_player config\n",
    "config.game"
   ]
  },
  {
   "cell_type": "markdown",
   "metadata": {},
   "source": [
    "We'll need to modify `game_runner` slightly. It needs to clear the menace_moves at the start of a game and to update the bead_counts at the end of a game.\n",
    "\n",
    "The we'll change the definition of `game_runner` and then create a new function `update_counts_in` for it to use. `update_counts_in` will take a configuration and return the updated comfiguration as its result."
   ]
  },
  {
   "cell_type": "code",
   "execution_count": 18,
   "metadata": {},
   "outputs": [],
   "source": [
    "]dinput\n",
    "game_runner ← { ⍝ play a game given two players and an initial configuration\n",
    "⍵.game ← 1 9⍴0\n",
    "⍵.menace_moves ← ⍬\n",
    "tmp ← (⍺⍺ play_round ⍵⍵)⍣9⊢⍵\n",
    "⍵.results ,← result ⍵.game\n",
    "update_counts_in ⍵\n",
    "}"
   ]
  },
  {
   "cell_type": "markdown",
   "metadata": {},
   "source": [
    "TODO: remove when working!"
   ]
  },
  {
   "cell_type": "code",
   "execution_count": 19,
   "metadata": {},
   "outputs": [
    {
     "data": {
      "text/html": [
       "<span style=\"white-space:pre; font-family: monospace\">┌────┐\n",
       "│81 1│\n",
       "└────┘\n",
       "</span>"
      ]
     },
     "execution_count": 19,
     "metadata": {},
     "output_type": "execute_result"
    }
   ],
   "source": [
    "config.menace_moves"
   ]
  },
  {
   "cell_type": "code",
   "execution_count": 20,
   "metadata": {},
   "outputs": [
    {
     "data": {
      "text/html": [
       "<span style=\"white-space:pre; font-family: monospace\">¯3\n",
       "</span>"
      ]
     },
     "execution_count": 20,
     "metadata": {},
     "output_type": "execute_result"
    }
   ],
   "source": [
    "adjustment ← { draw ⍵: 1 ⋄ ¯3 3[2|+/0≠⍵] }\n",
    "c ← ⎕ns ''\n",
    "adjustment 1 1 0 2 2 2 1 0 0"
   ]
  },
  {
   "cell_type": "code",
   "execution_count": 21,
   "metadata": {},
   "outputs": [
    {
     "data": {
      "text/html": [
       "<span style=\"white-space:pre; font-family: monospace\">3\n",
       "</span>"
      ]
     },
     "execution_count": 21,
     "metadata": {},
     "output_type": "execute_result"
    }
   ],
   "source": [
    "adjustment 1 1 1 2 2 0 0 0 0"
   ]
  },
  {
   "cell_type": "code",
   "execution_count": 22,
   "metadata": {},
   "outputs": [
    {
     "data": {
      "text/html": [
       "<span style=\"white-space:pre; font-family: monospace\">1\n",
       "</span>"
      ]
     },
     "execution_count": 22,
     "metadata": {},
     "output_type": "execute_result"
    }
   ],
   "source": [
    "adjustment 1 2 1 2 1 2 1 2 1"
   ]
  },
  {
   "cell_type": "code",
   "execution_count": 23,
   "metadata": {},
   "outputs": [],
   "source": [
    "empty ← {+/0=⍵}\n",
    "who ← {'○×'[2|empty ⍵]} ⍝ who is the current player?\n",
    "find_moves_for ← {⍺⌿⍵=who ⍺} ⍝ what moves were made by a player?\n",
    "winner_at_end ← {}"
   ]
  },
  {
   "cell_type": "code",
   "execution_count": 24,
   "metadata": {},
   "outputs": [],
   "source": [
    "]dinput\n",
    "played ← { ⍝ select the moves in ⍵ played by player ⍺\n",
    "(⍺ ≠ who ⍵)/⍵\n",
    "}"
   ]
  },
  {
   "cell_type": "code",
   "execution_count": 25,
   "metadata": {},
   "outputs": [],
   "source": [
    "]dinput\n",
    "positions_of ← { ⍝ find the positions in an array of menace_moves\n",
    "1 ⌷ ↑⍵\n",
    "}"
   ]
  },
  {
   "cell_type": "code",
   "execution_count": 26,
   "metadata": {},
   "outputs": [],
   "source": [
    "]dinput\n",
    "update_counts_in ← { ⍝ update the bead counts for moves made by a `menace_player`\n",
    "⍝ find ajustment based on whether × won, drew or lost\n",
    "a ← '×' adjustment cpos ⍵.game\n",
    "⍝ find all menace moves by '×'\n",
    "xmoves ← 'x' played positions_of ⍵.menace_moves\n",
    "⍝ update them\n",
    "\n",
    "⍝ do the same for ○\n",
    "⍵ \n",
    "}"
   ]
  },
  {
   "cell_type": "code",
   "execution_count": 27,
   "metadata": {
    "scrolled": true
   },
   "outputs": [],
   "source": [
    "config ← menace_player game_runner random_player⊢config"
   ]
  },
  {
   "cell_type": "code",
   "execution_count": 28,
   "metadata": {},
   "outputs": [],
   "source": [
    "config ← {menace_player game_runner random_player⊢⍵}⍣100⊢config"
   ]
  },
  {
   "cell_type": "code",
   "execution_count": 29,
   "metadata": {},
   "outputs": [
    {
     "data": {
      "text/html": [
       "<span style=\"white-space:pre; font-family: monospace\">┌───┬────┬─────┬─────┬──────┐\n",
       "│3 1│57 2│138 1│140 2│2327 1│\n",
       "└───┴────┴─────┴─────┴──────┘\n",
       "</span>"
      ]
     },
     "execution_count": 29,
     "metadata": {},
     "output_type": "execute_result"
    }
   ],
   "source": [
    "config.menace_moves"
   ]
  },
  {
   "cell_type": "markdown",
   "metadata": {},
   "source": [
    "TODO: move/update the text below.\n",
    "\n",
    "That's encouraging, but it points out our remaining problem: the current code uses bead counts but it does not update them so it is not learning.\n",
    "\n",
    "Fixing that needs a bit of thought.\n",
    "\n",
    "We can't just change `menace_player`. If `menace_player` is the first player, and the second player wins, the `meance_player` will not be invoked after the win, so it can't update the bead counts.\n",
    "\n",
    "We can't just change `game_runner`. \n",
    "To fix that we need to make two changes - one to `game_runner` and one to `menace_player`.\n",
    "\n",
    "\n",
    "\n",
    "`game_runner` knows when a game is over, and can find the result from `config`. It needs to update bead counts for every move made by a "
   ]
  },
  {
   "cell_type": "code",
   "execution_count": 30,
   "metadata": {},
   "outputs": [
    {
     "data": {
      "text/html": [
       "<span style=\"white-space:pre; font-family: monospace\">notebook7.dws saved Thu Jan 14 08:40:26 2021\n",
       "</span>"
      ]
     },
     "execution_count": 30,
     "metadata": {},
     "output_type": "execute_result"
    }
   ],
   "source": [
    ")save notebook7 -force"
   ]
  },
  {
   "cell_type": "code",
   "execution_count": null,
   "metadata": {},
   "outputs": [],
   "source": []
  }
 ],
 "metadata": {
  "kernelspec": {
   "display_name": "Dyalog APL",
   "language": "apl",
   "name": "dyalog-kernel"
  },
  "language_info": {
   "file_extension": ".apl",
   "mimetype": "text/apl",
   "name": "APL"
  }
 },
 "nbformat": 4,
 "nbformat_minor": 4
}
