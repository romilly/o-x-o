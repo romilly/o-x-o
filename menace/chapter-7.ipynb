{
 "cells": [
  {
   "cell_type": "markdown",
   "metadata": {},
   "source": [
    "# Playing the game\n",
    "\n",
    "In this chapter we'll explore the code that will run a game of Noughts and Crosses.\n",
    "\n",
    "The goal is to create a framweork that makes it easy to run MENACE with a variety of different player types.\n",
    "\n",
    "Specifically, we'll implement\n",
    "1. a `random` player function which will pick a legal move at random, and\n",
    "1. a `menace` player that learns using MENACE's strategy to chose which move to make\n",
    "\n",
    "I don't know how to capture user input from a program running in an APL jupyter notebook, but it's easy when running a program using Dyalog's RIDE interface. Appendix B (when written) will describe how to run a version of MENACE that also supports human playes.\n",
    "\n",
    "Each of these players will be implemented as an APL function which will take the current MENACE configuration as an argument, make a move and return an updated configuration as its result.\n",
    "\n",
    "We'll plug the players into a `game_runnner` which we will implement as a *user-defined* operator.\n",
    "\n",
    "Recall that in APL, a *function* returns data but an *operator* returns a function. Our `game_runner` will take a pair of player functions as arguments and return a function that will play an entire game.\n",
    "\n",
    "That function will take an array that captures the MENACE configuration as an argument and return an updated configuration as its result.\n",
    "\n",
    "In this chapter we will assume that all the games are played in a single APL session. In the *next* chapter we will implement a simple way of retaining that data so that MENACE can learn across multiple sessions.\n",
    "\n",
    "## The MENACE configuration\n",
    "\n",
    "The MENACE configuration will contain the information needed by the players.\n",
    "\n",
    "The original version of MENACE tracked the value of moves by using beads in a matchbox, and by tracking the moves actually made during a game.\n",
    "\n",
    "A player that applies MENACE's strategy needs that information so we will need to include it in the MENACE configuration. The function that implements a random player will ignore it.\n",
    "\n",
    "Throughout a game **all** player types will need to know the configuration for the current board so the menace configuration will contain that as well.\n",
    "\n",
    "Eventually we may want to examine MENACE's performance over time. For that reason the configuration will maintain a history of wins, draws and losses. The `game_runner` will maintain that information but the player functions will ignore it."
   ]
  },
  {
   "cell_type": "code",
   "execution_count": 8,
   "metadata": {},
   "outputs": [
    {
     "data": {
      "text/html": [
       "<span style=\"white-space:pre; font-family: monospace\">./notebook6.dws saved Thu Dec 17 15:50:07 2020\n",
       "</span>"
      ]
     },
     "execution_count": 8,
     "metadata": {},
     "output_type": "execute_result"
    }
   ],
   "source": [
    ")copy notebook6"
   ]
  },
  {
   "cell_type": "code",
   "execution_count": 9,
   "metadata": {},
   "outputs": [],
   "source": [
    "⎕io ← 0"
   ]
  },
  {
   "cell_type": "code",
   "execution_count": 2,
   "metadata": {},
   "outputs": [],
   "source": [
    "human_player ← {board moves menace history ← ⍵ ⋄ ⍞ ← show board ⋄ move ← ask 'which move' ⋄ board moves menace history}"
   ]
  },
  {
   "cell_type": "code",
   "execution_count": 5,
   "metadata": {},
   "outputs": [],
   "source": [
    "ask ← { ⍞ ← ⍵ ⋄ (⍴⍵)↓⍞}"
   ]
  },
  {
   "cell_type": "code",
   "execution_count": 6,
   "metadata": {},
   "outputs": [
    {
     "name": "stderr",
     "output_type": "stream",
     "text": [
      "JUPYTER NOTEBOOK: Input through ⍞ is not supported"
     ]
    }
   ],
   "source": [
    "ask 'name?'"
   ]
  },
  {
   "cell_type": "code",
   "execution_count": 10,
   "metadata": {},
   "outputs": [
    {
     "data": {
      "text/html": [
       "<span style=\"white-space:pre; font-family: monospace\">notebook7.dws saved Fri Dec 18 12:00:23 2020\n",
       "</span>"
      ]
     },
     "execution_count": 10,
     "metadata": {},
     "output_type": "execute_result"
    }
   ],
   "source": [
    ")save notebook7 -force"
   ]
  },
  {
   "cell_type": "code",
   "execution_count": null,
   "metadata": {},
   "outputs": [],
   "source": []
  }
 ],
 "metadata": {
  "kernelspec": {
   "display_name": "Dyalog APL",
   "language": "apl",
   "name": "dyalog-kernel"
  },
  "language_info": {
   "file_extension": ".apl",
   "mimetype": "text/apl",
   "name": "APL"
  }
 },
 "nbformat": 4,
 "nbformat_minor": 4
}
