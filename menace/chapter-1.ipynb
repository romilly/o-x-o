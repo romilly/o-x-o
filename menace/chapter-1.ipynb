{
 "cells": [
  {
   "cell_type": "markdown",
   "metadata": {},
   "source": [
    "# Reinforcement Learning from the ground up\n",
    "\n",
    "## Fun with the MENACE\n",
    "\n",
    "### A long, long time ago\n",
    "\n",
    "Sometimes smart people jump to dumb conclusions.\n",
    "\n",
    "Back in 1965 I attended my first programming course at the University of London Institute of Computer Science.\n",
    "\n",
    "Our trainer was great. He was an academic lecturer with a wealth of programming experience, and we all learned a lot. But he wasn't right about everything he told us.\n",
    "\n",
    "On the last day he ran an *Ask Me Anything* session.\n",
    "\n",
    "One of the students asked him if a computer program could ever beat consistently humans at chess.\n",
    "He answered immediately with a firm *No*.\n",
    "\n",
    "He explained: \"The program could only play by the programmer's rules, so it could never be a better player than the programmer.\"\n",
    "\n",
    "He had no conception of a program that could learn from its mistakes and improve its strategy. \n",
    "\n",
    "He can't have known that several researchers had already published details of programs that did exactly that. They implemented [Reinforcement Learning](https://en.wikipedia.org/wiki/Reinforcement_learning) strategies.\n",
    "\n",
    "### Samuel's checker player\n",
    "\n",
    "In 1959 A L Samuel wrote about a program that played checkers (known as draughts in the UK). The program learned to improve its game. Checkers is not as complex as chess, but it is not a trivial game. Samuel's implementation payed the game surprisingly well. This was was a significant milestone in the development of AI.\n",
    "\n",
    "Another early program played a simpler game.\n",
    "\n",
    "### Donald Michie's MENACE\n",
    "\n",
    "Most of us have played [*Tic-tac-toe*](https://en.wikipedia.org/wiki/Tic-tac-toe), or *Noughts and Crosses* as it's known in the UK.\n",
    "\n",
    "[Donald Michie](https://en.wikipedia.org/wiki/Donald_Michie) (a pioneer in AI) realised that Noughts and Crosses is a good candidate if you're looking a way to start exploring game-playing AI.\n",
    "\n",
    "In 1960 Michie created [MENACE](http://chalkdustmagazine.com/features/menace-machine-educable-noughts-crosses-engine/), the *Matchbox Educable Noughts And Crosses Engine*.\n",
    "\n",
    "MENACE was a mechancial computer based on matchboxes filled with coloured beads. MENACE's moves were determined by picking a bead at random from the appropriate matchbox. When the game was over the beads were adjusted depending on the outcome of the game.\n",
    "\n",
    "This simple design was enough for it to become a decent player when it had played enough games against a human opponent.\n",
    "\n",
    "MENACE was also implemented in software on a Pegasus computer.\n",
    "\n",
    "I first read about MENACE in the Penguin Science Survey 1962 vol 2. You can see a picture of the original matchbox MENACE below.\n",
    "\n",
    "![MENACE](images/menace-1961.jpg)\n",
    "\n",
    "RL (Reinforcement Learning) has been actively studied by researchers since the early implementations.\n",
    "\n",
    "### Recent progress in RL\n",
    "\n",
    "Recent RL successes include Deep Mind's AlphaGo and AlphaZero.\n",
    "\n",
    "We've also seen the publication of a long-awaited second edition of [Sutton and Barto's seminal book](https://www.amazon.co.uk/Reinforcement-Learning-Introduction-Richard-Sutton/dp/0262039249/) on RL.\n",
    "\n",
    "My long-time friend and mentor, Tom Westerdale, has formalised the relationship between temporal difference methods and Evolutionary Adaptive Systems.\n",
    "\n",
    "There's a lot of interest in RL at present and Michie's MENACE is a great way to get familiar with the basics.\n",
    "\n",
    "### Michie's MENACE revisited\n",
    "\n",
    "Several people have replicated MENACE over the years.\n",
    "\n",
    "Matthew Scroggs built a mechanical replica which was used by Hannah Fry and Matt Parker in the [2019 Royal Society Christmas Lecture](https://www.mscroggs.co.uk/blog/71) to demonstrate how machine learning works. Scroggs also wrote a [JavaScript implementation](https://github.com/mscroggs/MENACE). \n",
    "\n",
    "Scroggs intoduced MENACE to Oliver Child, and Child, while still at school, created his own [replica](http://chalkdustmagazine.com/features/menace-machine-educable-noughts-crosses-engine/).\n",
    "\n",
    "I too am keen to replicate MENACE.\n",
    "\n",
    "This is the first of a series of Jupyter Notebooks that will build up a simple implementation in [Dyalog APL](https://www.dyalog.com/).\n",
    "\n",
    "[APL](https://en.wikipedia.org/wiki/APL_(programming_language)) (which stands for *A Programming Language*) is very well suited to the task.\n",
    "\n",
    "APL was designed as a language for exposition, and it implements the algorithms that we'll need simply and concisely."
   ]
  },
  {
   "cell_type": "markdown",
   "metadata": {},
   "source": [
    "## O-X-O\n",
    "\n",
    "I'm going to be talking about the game a good deal. Both the UK and US names are a bit tedious to type. In the notebooks that follow I will refer to the game as O-X-O."
   ]
  },
  {
   "cell_type": "markdown",
   "metadata": {},
   "source": [
    "The notebooks will explore the game and its implementation."
   ]
  }
 ],
 "metadata": {
  "kernelspec": {
   "display_name": "Dyalog APL",
   "language": "apl",
   "name": "dyalog-kernel"
  },
  "language_info": {
   "file_extension": ".apl",
   "mimetype": "text/apl",
   "name": "APL"
  }
 },
 "nbformat": 4,
 "nbformat_minor": 4
}