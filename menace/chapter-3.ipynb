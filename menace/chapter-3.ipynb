{
 "cells": [
  {
   "cell_type": "markdown",
   "metadata": {},
   "source": [
    "# Reinforcement Learning with MENACE\n",
    "\n",
    "## Dealing with symmetries"
   ]
  },
  {
   "cell_type": "markdown",
   "metadata": {},
   "source": [
    "Michie made three simplifications to simplify the construction and to reduce the number of matchboxes that MENACE needed.\n",
    "\n",
    "1. Rotations and reflections of a configuration were treated as the same.\n",
    "1. Layouts were removed if the opponent had won.\n",
    "1. In the initial version, MENACE always played first.\n",
    "\n",
    "In this notebook we'll explore rotations and reflections of the O-X-O board.\n",
    "\n",
    "First, we'll load in the work we did in the previous notebook."
   ]
  },
  {
   "cell_type": "code",
   "execution_count": 1,
   "metadata": {},
   "outputs": [
    {
     "data": {
      "text/html": [
       "<span style=\"white-space:pre; font-family: monospace\">done\n",
       "</span>"
      ]
     },
     "execution_count": 1,
     "metadata": {},
     "output_type": "execute_result"
    },
    {
     "data": {
      "text/html": [
       "<span style=\"white-space:pre; font-family: monospace\">./notebook3.dws saved Fri Dec 11 12:22:47 2020\n",
       "</span>"
      ]
     },
     "execution_count": 1,
     "metadata": {},
     "output_type": "execute_result"
    }
   ],
   "source": [
    ")copy notebook2"
   ]
  },
  {
   "cell_type": "markdown",
   "metadata": {},
   "source": [
    "`)copy notebook2` brings in the functions and variables we saved earlier so we can use them in this notebook.\n",
    "\n",
    "We can see what functions are defined by using `)fns`. That's another APL system command."
   ]
  },
  {
   "cell_type": "code",
   "execution_count": 2,
   "metadata": {},
   "outputs": [
    {
     "data": {
      "text/html": [
       "<span style=\"white-space:pre; font-family: monospace\">decode  encode  show    \n",
       "</span>"
      ]
     },
     "execution_count": 2,
     "metadata": {},
     "output_type": "execute_result"
    }
   ],
   "source": [
    ")fns"
   ]
  },
  {
   "cell_type": "markdown",
   "metadata": {},
   "source": [
    "We've one more thing to do before we start. `)Copy` does *not* copy `⎕io` (the *index origin* we start counting from). We need to set that to zero again."
   ]
  },
  {
   "cell_type": "code",
   "execution_count": 3,
   "metadata": {},
   "outputs": [],
   "source": [
    "⎕io ← 0"
   ]
  },
  {
   "cell_type": "markdown",
   "metadata": {},
   "source": [
    "Now we'll see how Michie reduced the number of board positions he had to consider."
   ]
  },
  {
   "cell_type": "markdown",
   "metadata": {},
   "source": [
    "## Dealing with symmetries\n",
    "\n",
    "What are symmetries?\n",
    "\n",
    "[Symmetries (in the mathematical sense)](https://en.wikipedia.org/wiki/Symmetry) are transformations that help us how to identify board positions that look different but which we can regard as the same.\n",
    "\n",
    "Here's an example - a board and its reflection.\n",
    "\n",
    "![Reflected configurations](images/reflection.png)"
   ]
  },
  {
   "cell_type": "markdown",
   "metadata": {},
   "source": [
    "### The reflection symmetry\n",
    "\n",
    "We can imagine a pair of games in which each game is a mirror version of the other.\n",
    "\n",
    "At each stage in the game the possible moves will be the same when reflected in the mirror.\n",
    "\n",
    "If a player wins in one game the mirror player will win in the mirror game.\n",
    "\n",
    "Studying the mirror game tells us nothing new. We only need to consider the un-reflected game.\n",
    "\n",
    "### Rotation symmetries\n",
    "\n",
    "Reflection is not the only way to create a symmetry. We can say the same things about two games in which the board has been turned upside down - in other words, rotated through 180 degrees.\n",
    "\n",
    "Here's a pair of boards that have been rotated like that.\n",
    "\n",
    "![Rotated boards](images/r90.png)"
   ]
  },
  {
   "cell_type": "markdown",
   "metadata": {},
   "source": [
    "### Eight symmetries\n",
    "\n",
    "There are eight possible symmetries based on rotation and reflection.\n",
    "\n",
    "We can leave the board un-rotated or turn it though 90, 180 0r 270 degrees. We can leave those four as they are and we can also reflect each in a mirror. Thus there are eight possible symmetric transformations.\n",
    "\n",
    "How can we apply one of these transformations to a given board configuration?\n",
    "\n",
    "Let's start by looking at a reflection.\n",
    "\n",
    "If we paint a number from zero to eight on each square of the board it would look like this:"
   ]
  },
  {
   "cell_type": "code",
   "execution_count": 4,
   "metadata": {},
   "outputs": [
    {
     "data": {
      "text/html": [
       "<span style=\"white-space:pre; font-family: monospace\">0 1 2\n",
       "3 4 5\n",
       "6 7 8\n",
       "</span>"
      ]
     },
     "execution_count": 4,
     "metadata": {},
     "output_type": "execute_result"
    }
   ],
   "source": [
    "+start ← 3 3⍴⍳9"
   ]
  },
  {
   "cell_type": "markdown",
   "metadata": {},
   "source": [
    "APL has a primitive function  reverse `⌽` that reverses its argument. Let's apply it"
   ]
  },
  {
   "cell_type": "code",
   "execution_count": 5,
   "metadata": {},
   "outputs": [
    {
     "data": {
      "text/html": [
       "<span style=\"white-space:pre; font-family: monospace\">2 1 0\n",
       "5 4 3\n",
       "8 7 6\n",
       "</span>"
      ]
     },
     "execution_count": 5,
     "metadata": {},
     "output_type": "execute_result"
    }
   ],
   "source": [
    "⌽start"
   ]
  },
  {
   "cell_type": "markdown",
   "metadata": {},
   "source": [
    "## Applying a reflection\n",
    "\n",
    "We can reflect a board configuration by permuting the numbers in it. Since we are representing out boards as vectors, we can just use indexing to apply the permutation.\n",
    "\n",
    "Here's an example."
   ]
  },
  {
   "cell_type": "code",
   "execution_count": 6,
   "metadata": {},
   "outputs": [
    {
     "data": {
      "text/html": [
       "<span style=\"white-space:pre; font-family: monospace\">××.\n",
       ".○○\n",
       ".×.\n",
       "</span>"
      ]
     },
     "execution_count": 6,
     "metadata": {},
     "output_type": "execute_result"
    }
   ],
   "source": [
    "show board1 ← 1 1 0 0 2 2 0 1 0"
   ]
  },
  {
   "cell_type": "code",
   "execution_count": 7,
   "metadata": {},
   "outputs": [
    {
     "data": {
      "text/html": [
       "<span style=\"white-space:pre; font-family: monospace\">.××\n",
       "○○.\n",
       ".×.\n",
       "</span>"
      ]
     },
     "execution_count": 7,
     "metadata": {},
     "output_type": "execute_result"
    }
   ],
   "source": [
    "show board1[2 1 0 5 4 3 8 7 6]"
   ]
  },
  {
   "cell_type": "markdown",
   "metadata": {},
   "source": [
    "I got the index numbers by turning the matrix `⌽start` into a vector. In APL you can do that using the function *ravel* which is represented by `,`"
   ]
  },
  {
   "cell_type": "code",
   "execution_count": 8,
   "metadata": {},
   "outputs": [
    {
     "data": {
      "text/html": [
       "<span style=\"white-space:pre; font-family: monospace\">2 1 0 5 4 3 8 7 6\n",
       "</span>"
      ]
     },
     "execution_count": 8,
     "metadata": {},
     "output_type": "execute_result"
    }
   ],
   "source": [
    ",⌽start"
   ]
  },
  {
   "cell_type": "markdown",
   "metadata": {},
   "source": [
    "## How about rotations?\n",
    "\n",
    "Here's our numbered board next to the board rotated by 90 degrees.\n",
    "\n",
    "![Rotated board](images/rotated-board.png)"
   ]
  },
  {
   "cell_type": "markdown",
   "metadata": {},
   "source": [
    "If we ravel the matrix on the right we can see the permutation vector that represents that rotation is `6 3 0 7 4 1 8 5 2`.\n",
    "\n",
    "We can define a couple of functions that will reflect a board or rotate it by 90 degrees.\n",
    "\n",
    "In these and many later code fragments we will use *lamp* `⍝`. That's the APL comment symbol. APL will ignore everything on the rest of the line after a `⍝`"
   ]
  },
  {
   "cell_type": "code",
   "execution_count": 9,
   "metadata": {},
   "outputs": [
    {
     "data": {
      "text/html": [
       "<span style=\"white-space:pre; font-family: monospace\">┌───┬───┬───┐\n",
       "│××.│.××│..×│\n",
       "│.○○│○○.│×○×│\n",
       "│.×.│.×.│.○.│\n",
       "└───┴───┴───┘\n",
       "</span>"
      ]
     },
     "execution_count": 9,
     "metadata": {},
     "output_type": "execute_result"
    }
   ],
   "source": [
    "m ← {⍵[2 1 0 5 4 3 8 7 6]} ⍝ mirror reflection\n",
    "r ← {⍵[6 3 0 7 4 1 8 5 2]} ⍝ rotation\n",
    "show ¨ board1 (m board1) (r board1)"
   ]
  },
  {
   "cell_type": "markdown",
   "metadata": {},
   "source": [
    "Let's generate the permutations for all eight symmetries.\n",
    "\n",
    "First we'll create the rotations."
   ]
  },
  {
   "cell_type": "code",
   "execution_count": 10,
   "metadata": {},
   "outputs": [],
   "source": [
    "i ← ⍳9\n",
    "r90 ← r i ⍝ one rotation by 90 degrees\n",
    "r180 ← r r90 ⍝ two consecutive rotations - 180 degrees\n",
    "r270 ← r r180 ⍝ three - 270 degrees"
   ]
  },
  {
   "cell_type": "markdown",
   "metadata": {},
   "source": [
    "Now for the reflected versions."
   ]
  },
  {
   "cell_type": "code",
   "execution_count": 11,
   "metadata": {},
   "outputs": [],
   "source": [
    "mi ← m ⍳9\n",
    "mr90 ← m r90\n",
    "mr180 ← m r180\n",
    "mr270 ← m r270"
   ]
  },
  {
   "cell_type": "markdown",
   "metadata": {},
   "source": [
    "We can combine them and show the result."
   ]
  },
  {
   "cell_type": "code",
   "execution_count": 12,
   "metadata": {},
   "outputs": [
    {
     "data": {
      "text/html": [
       "<span style=\"white-space:pre; font-family: monospace\">0 1 2 3 4 5 6 7 8\n",
       "6 3 0 7 4 1 8 5 2\n",
       "8 7 6 5 4 3 2 1 0\n",
       "2 5 8 1 4 7 0 3 6\n",
       "2 1 0 5 4 3 8 7 6\n",
       "0 3 6 1 4 7 2 5 8\n",
       "6 7 8 3 4 5 0 1 2\n",
       "8 5 2 7 4 1 6 3 0\n",
       "</span>"
      ]
     },
     "execution_count": 12,
     "metadata": {},
     "output_type": "execute_result"
    }
   ],
   "source": [
    "+symmetries ← ↑ i r90 r180 r270 mi mr90 mr180 mr270\n"
   ]
  },
  {
   "cell_type": "markdown",
   "metadata": {},
   "source": [
    "Now we can generate and display all the symmetries of a given position."
   ]
  },
  {
   "cell_type": "code",
   "execution_count": 13,
   "metadata": {},
   "outputs": [
    {
     "data": {
      "text/html": [
       "<span style=\"white-space:pre; font-family: monospace\">┌───┬───┬───┬───┬───┬───┬───┬───┐\n",
       "│××.│..×│.×.│.○.│.××│×..│.×.│.○.│\n",
       "│.○○│×○×│○○.│×○×│○○.│×○×│.○○│×○×│\n",
       "│.×.│.○.│.××│×..│.×.│.○.│××.│..×│\n",
       "└───┴───┴───┴───┴───┴───┴───┴───┘\n",
       "</span>"
      ]
     },
     "execution_count": 13,
     "metadata": {},
     "output_type": "execute_result"
    }
   ],
   "source": [
    "⊂⍤2 show board1[symmetries]"
   ]
  },
  {
   "cell_type": "code",
   "execution_count": 14,
   "metadata": {},
   "outputs": [
    {
     "data": {
      "text/html": [
       "<span style=\"white-space:pre; font-family: monospace\">notebook4.dws saved Fri Dec 11 12:25:20 2020\n",
       "</span>"
      ]
     },
     "execution_count": 14,
     "metadata": {},
     "output_type": "execute_result"
    }
   ],
   "source": [
    ")save notebook3 -force"
   ]
  },
  {
   "cell_type": "markdown",
   "metadata": {},
   "source": [
    "Next we'll start looking at the implementation of the game."
   ]
  },
  {
   "cell_type": "code",
   "execution_count": null,
   "metadata": {},
   "outputs": [],
   "source": []
  }
 ],
 "metadata": {
  "kernelspec": {
   "display_name": "Dyalog APL",
   "language": "apl",
   "name": "dyalog-kernel"
  },
  "language_info": {
   "file_extension": ".apl",
   "mimetype": "text/apl",
   "name": "APL"
  }
 },
 "nbformat": 4,
 "nbformat_minor": 4
}