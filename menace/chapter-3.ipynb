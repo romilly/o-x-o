{
 "cells": [
  {
   "cell_type": "markdown",
   "metadata": {},
   "source": [
    "# Exploring the game\n",
    "\n",
    "In this notebook we'll explore the game in more depth.\n",
    "\n",
    "First, we'll load in the work we did on symmetries in the previous notebook."
   ]
  },
  {
   "cell_type": "code",
   "execution_count": 1,
   "metadata": {},
   "outputs": [
    {
     "data": {
      "text/html": [
       "<span style=\"white-space:pre; font-family: monospace\">done\n",
       "</span>"
      ]
     },
     "execution_count": 1,
     "metadata": {},
     "output_type": "execute_result"
    },
    {
     "data": {
      "text/html": [
       "<span style=\"white-space:pre; font-family: monospace\">./notebook2.dws saved Wed Dec 30 11:40:36 2020\n",
       "</span>"
      ]
     },
     "execution_count": 1,
     "metadata": {},
     "output_type": "execute_result"
    }
   ],
   "source": [
    ")copy notebook2"
   ]
  },
  {
   "cell_type": "code",
   "execution_count": 2,
   "metadata": {},
   "outputs": [
    {
     "data": {
      "text/html": [
       "<span style=\"white-space:pre; font-family: monospace\">decode  encode  list    m       r       show    \n",
       "</span>"
      ]
     },
     "execution_count": 2,
     "metadata": {},
     "output_type": "execute_result"
    }
   ],
   "source": [
    ")fns"
   ]
  },
  {
   "cell_type": "markdown",
   "metadata": {},
   "source": [
    "`)vars` is another useful system command. It shows us the names of the variables that `)copy` brought in for us."
   ]
  },
  {
   "cell_type": "code",
   "execution_count": 3,
   "metadata": {},
   "outputs": [
    {
     "data": {
      "text/html": [
       "<span style=\"white-space:pre; font-family: monospace\">board1  boards  encoded hereDir i       mi      mr180   mr270   mr90    r180    r270    r90     start   symmetries      \n",
       "</span>"
      ]
     },
     "execution_count": 3,
     "metadata": {},
     "output_type": "execute_result"
    }
   ],
   "source": [
    ")vars"
   ]
  },
  {
   "cell_type": "markdown",
   "metadata": {},
   "source": [
    "As we saw earlier, `⎕io` is *not* copied, so we'll need to set it to zero."
   ]
  },
  {
   "cell_type": "code",
   "execution_count": 4,
   "metadata": {},
   "outputs": [],
   "source": [
    "⎕io ← 0"
   ]
  },
  {
   "cell_type": "markdown",
   "metadata": {},
   "source": [
    "## Using symmetries\n",
    "\n",
    "Let's start by looking at how we can use our work on symmetries to reduce the number of board positions we need to consider when playing.\n",
    "\n",
    "For any given board position there are up to seven other positions that are equivalent to it.\n",
    "\n",
    "Why did I say *up to*?\n",
    "\n",
    "Some board configurations are symmetric, so some transformations will leave them unchanged.\n",
    "\n",
    "Here's an extreme example. Imagine that `x` has played in the centre of the board.\n",
    "The board is the same whether you rotate it, reflect it, combine rotations and reflections or leave it unchanged.\n"
   ]
  },
  {
   "cell_type": "code",
   "execution_count": 5,
   "metadata": {},
   "outputs": [
    {
     "data": {
      "text/html": [
       "<span style=\"white-space:pre; font-family: monospace\">...\n",
       ".×.\n",
       "...\n",
       "</span>"
      ]
     },
     "execution_count": 5,
     "metadata": {},
     "output_type": "execute_result"
    }
   ],
   "source": [
    " ⊢ symmetric ← 3 3⍴'....×....'"
   ]
  },
  {
   "cell_type": "markdown",
   "metadata": {},
   "source": [
    "To examine the symmetries using APL we need to convert the board to its vector representation.\n",
    "\n",
    "Let's create a function to do that."
   ]
  },
  {
   "cell_type": "code",
   "execution_count": 6,
   "metadata": {},
   "outputs": [],
   "source": [
    "see←{{,'.×○'⍳⍵}⍤2⊣⍵}"
   ]
  },
  {
   "cell_type": "markdown",
   "metadata": {},
   "source": [
    "It's a little more complicated than you might expect because it can handle arrays of boards as well as individual boards.\n",
    "\n",
    "Let's try it out."
   ]
  },
  {
   "cell_type": "code",
   "execution_count": 7,
   "metadata": {},
   "outputs": [
    {
     "data": {
      "text/html": [
       "<span style=\"white-space:pre; font-family: monospace\">0 0 0 0 1 0 0 0 0\n",
       "</span>"
      ]
     },
     "execution_count": 7,
     "metadata": {},
     "output_type": "execute_result"
    }
   ],
   "source": [
    "⊢ sym ← see symmetric"
   ]
  },
  {
   "cell_type": "markdown",
   "metadata": {},
   "source": [
    "You can think of `see` as an inverse to `show`.\n",
    "\n",
    "Let's check the symmetric transformations on the board."
   ]
  },
  {
   "cell_type": "code",
   "execution_count": 8,
   "metadata": {},
   "outputs": [
    {
     "data": {
      "text/html": [
       "<span style=\"white-space:pre; font-family: monospace\">0 0 0 0 1 0 0 0 0\n",
       "0 0 0 0 1 0 0 0 0\n",
       "0 0 0 0 1 0 0 0 0\n",
       "0 0 0 0 1 0 0 0 0\n",
       "0 0 0 0 1 0 0 0 0\n",
       "0 0 0 0 1 0 0 0 0\n",
       "0 0 0 0 1 0 0 0 0\n",
       "0 0 0 0 1 0 0 0 0\n",
       "</span>"
      ]
     },
     "execution_count": 8,
     "metadata": {},
     "output_type": "execute_result"
    }
   ],
   "source": [
    "sym[symmetries]"
   ]
  },
  {
   "cell_type": "markdown",
   "metadata": {},
   "source": [
    "They are all identical (as they should be).\n",
    "\n",
    "How can we get rid of the redundant copies?\n",
    "\n",
    "APL has a primitive function *Unique* represented as `∪` which does just that."
   ]
  },
  {
   "cell_type": "code",
   "execution_count": 9,
   "metadata": {},
   "outputs": [
    {
     "data": {
      "text/html": [
       "<span style=\"white-space:pre; font-family: monospace\">0 0 0 0 1 0 0 0 0\n",
       "</span>"
      ]
     },
     "execution_count": 9,
     "metadata": {},
     "output_type": "execute_result"
    }
   ],
   "source": [
    "∪sym[symmetries] ⍝ the unique version"
   ]
  },
  {
   "cell_type": "markdown",
   "metadata": {},
   "source": [
    "Let's look at a position with less symmetry."
   ]
  },
  {
   "cell_type": "code",
   "execution_count": 10,
   "metadata": {},
   "outputs": [
    {
     "data": {
      "text/html": [
       "<span style=\"white-space:pre; font-family: monospace\">.×.\n",
       "×○×\n",
       "...\n",
       "</span>"
      ]
     },
     "execution_count": 10,
     "metadata": {},
     "output_type": "execute_result"
    }
   ],
   "source": [
    "⊢ asymmetric ← 3 3⍴'.×.×○×...'"
   ]
  },
  {
   "cell_type": "code",
   "execution_count": 11,
   "metadata": {},
   "outputs": [
    {
     "data": {
      "text/html": [
       "<span style=\"white-space:pre; font-family: monospace\">0 1 0 1 2 1 0 0 0\n",
       "</span>"
      ]
     },
     "execution_count": 11,
     "metadata": {},
     "output_type": "execute_result"
    }
   ],
   "source": [
    "+less ← see asymmetric"
   ]
  },
  {
   "cell_type": "code",
   "execution_count": 12,
   "metadata": {},
   "outputs": [
    {
     "data": {
      "text/html": [
       "<span style=\"white-space:pre; font-family: monospace\">0 1 0 1 2 1 0 0 0\n",
       "0 1 0 0 2 1 0 1 0\n",
       "0 0 0 1 2 1 0 1 0\n",
       "0 1 0 1 2 0 0 1 0\n",
       "0 1 0 1 2 1 0 0 0\n",
       "0 1 0 1 2 0 0 1 0\n",
       "0 0 0 1 2 1 0 1 0\n",
       "0 1 0 0 2 1 0 1 0\n",
       "</span>"
      ]
     },
     "execution_count": 12,
     "metadata": {},
     "output_type": "execute_result"
    }
   ],
   "source": [
    "less[symmetries]"
   ]
  },
  {
   "cell_type": "code",
   "execution_count": 13,
   "metadata": {},
   "outputs": [
    {
     "data": {
      "text/html": [
       "<span style=\"white-space:pre; font-family: monospace\">0 1 0 1 2 1 0 0 0\n",
       "0 1 0 0 2 1 0 1 0\n",
       "0 0 0 1 2 1 0 1 0\n",
       "0 1 0 1 2 0 0 1 0\n",
       "</span>"
      ]
     },
     "execution_count": 13,
     "metadata": {},
     "output_type": "execute_result"
    }
   ],
   "source": [
    "∪less[symmetries]"
   ]
  },
  {
   "cell_type": "markdown",
   "metadata": {},
   "source": [
    "Now there are four distinct transformations.\n",
    "\n",
    "Let's see what they are."
   ]
  },
  {
   "cell_type": "code",
   "execution_count": 14,
   "metadata": {
    "scrolled": true
   },
   "outputs": [
    {
     "data": {
      "text/html": [
       "<span style=\"white-space:pre; font-family: monospace\">┌───┬───┬───┬───┐\n",
       "│.×.│.×.│...│.×.│\n",
       "│×○×│.○×│×○×│×○.│\n",
       "│...│.×.│.×.│.×.│\n",
       "└───┴───┴───┴───┘\n",
       "</span>"
      ]
     },
     "execution_count": 14,
     "metadata": {},
     "output_type": "execute_result"
    }
   ],
   "source": [
    "⊂⍤2 show ∪less[symmetries]"
   ]
  },
  {
   "cell_type": "code",
   "execution_count": 15,
   "metadata": {},
   "outputs": [
    {
     "data": {
      "text/html": [
       "<span style=\"white-space:pre; font-family: monospace\">××.\n",
       ".○○\n",
       ".×.\n",
       "</span>"
      ]
     },
     "execution_count": 15,
     "metadata": {},
     "output_type": "execute_result"
    }
   ],
   "source": [
    "show board1"
   ]
  },
  {
   "cell_type": "code",
   "execution_count": 16,
   "metadata": {},
   "outputs": [
    {
     "data": {
      "text/html": [
       "<span style=\"white-space:pre; font-family: monospace\">┌───┬───┬───┬───┬───┬───┬───┬───┐\n",
       "│××.│..×│.×.│.○.│.××│×..│.×.│.○.│\n",
       "│.○○│×○×│○○.│×○×│○○.│×○×│.○○│×○×│\n",
       "│.×.│.○.│.××│×..│.×.│.○.│××.│..×│\n",
       "└───┴───┴───┴───┴───┴───┴───┴───┘\n",
       "</span>"
      ]
     },
     "execution_count": 16,
     "metadata": {},
     "output_type": "execute_result"
    }
   ],
   "source": [
    "⊂⍤2 show ∪board1[symmetries]"
   ]
  },
  {
   "cell_type": "markdown",
   "metadata": {},
   "source": [
    "`board1` is asymmetric and so it has eight distinct symmetries."
   ]
  },
  {
   "cell_type": "markdown",
   "metadata": {},
   "source": [
    "## Canonical representations\n",
    "\n",
    "In order to apply Michie's first simplification we need a way of converting every board position to *just one* of its symmetries.\n",
    "\n",
    "We'll use the idea of a *canonical representation*. I've borrowed that term from Mathematics, but the mathematical details don't matter to us.\n",
    "You'll see how we create and use canonical representations in below.\n",
    "\n",
    "### Defining a position's canonical representation\n",
    "\n",
    "As we've seen, every board position is a member of a set of one to eight boards which can be regarded as the same as far as the game is concerned.\n",
    "\n",
    "The functions `encode` and `decode` allow us to switch between the vector representation of the position and a number in the range zero to 19682.\n",
    "\n",
    "The symmetries of a given position form a set of up to eight vectors, and each vector can be converted to its unique number using `decode`.\n",
    "\n",
    "We'll take the smallest of those numbers and use that as the canonical representation of the position."
   ]
  },
  {
   "cell_type": "markdown",
   "metadata": {},
   "source": [
    "Let's do that for the boards we just considered: `sym`, `less` and `board1`.\n",
    " We are going to perform the same operation on each, so we can save time by defining a function to do it."
   ]
  },
  {
   "cell_type": "code",
   "execution_count": 17,
   "metadata": {},
   "outputs": [
    {
     "data": {
      "text/html": [
       "<span style=\"white-space:pre; font-family: monospace\">...\n",
       ".×.\n",
       "...\n",
       "</span>"
      ]
     },
     "execution_count": 17,
     "metadata": {},
     "output_type": "execute_result"
    }
   ],
   "source": [
    "canonical ← { ⌊⌿ decode ⍵[symmetries]}\n",
    "show encode canonical sym"
   ]
  },
  {
   "cell_type": "code",
   "execution_count": 18,
   "metadata": {},
   "outputs": [
    {
     "data": {
      "text/html": [
       "<span style=\"white-space:pre; font-family: monospace\">...\n",
       "×○×\n",
       ".×.\n",
       "</span>"
      ]
     },
     "execution_count": 18,
     "metadata": {},
     "output_type": "execute_result"
    }
   ],
   "source": [
    "show encode canonical less"
   ]
  },
  {
   "cell_type": "code",
   "execution_count": 19,
   "metadata": {},
   "outputs": [
    {
     "data": {
      "text/html": [
       "<span style=\"white-space:pre; font-family: monospace\">..×\n",
       "×○×\n",
       ".○.\n",
       "</span>"
      ]
     },
     "execution_count": 19,
     "metadata": {},
     "output_type": "execute_result"
    }
   ],
   "source": [
    "show encode canonical board1"
   ]
  },
  {
   "cell_type": "markdown",
   "metadata": {},
   "source": [
    "Can we find out the canonical representations of all positions?\n",
    "\n",
    "Let's try"
   ]
  },
  {
   "cell_type": "code",
   "execution_count": 20,
   "metadata": {},
   "outputs": [
    {
     "name": "stderr",
     "output_type": "stream",
     "text": [
      "RANK ERROR\n",
      "canonical[0] canonical←{⌊⌿decode ⍵[symmetries]}\n",
      "                                  ∧\n"
     ]
    }
   ],
   "source": [
    "all ← canonical encode ⍳3*9"
   ]
  },
  {
   "cell_type": "markdown",
   "metadata": {},
   "source": [
    "What's gone wrong?\n",
    "\n",
    "We've used a simple version of indexing in the definition of canonical.\n",
    "The `[]` form of indexing corresponds to the notation that is used in a lot of programming languages,\n",
    "but the format is slightly different for vectors and matrices.\n",
    "The syntax above works for vectors, but we're using it with a matrix.\n",
    "\n",
    "Luckily APL has another form of indexing based on the `Index` function represented as `⌷`.\n",
    "`Index` can solve the problem we hit above.\n",
    "\n",
    "You can see how `Index` works in the example below."
   ]
  },
  {
   "cell_type": "code",
   "execution_count": 21,
   "metadata": {},
   "outputs": [
    {
     "data": {
      "text/html": [
       "<span style=\"white-space:pre; font-family: monospace\">7 10 9\n",
       "</span>"
      ]
     },
     "execution_count": 21,
     "metadata": {},
     "output_type": "execute_result"
    }
   ],
   "source": [
    "(⊂0 3 2)⌷7 8 9 10 20 ⍝ the same as 7 8 9 10 20[0 3 2]"
   ]
  },
  {
   "cell_type": "markdown",
   "metadata": {},
   "source": [
    "Below you'll see a function called `ild`, which is short for *index last dimension*.\n",
    "\n",
    "Here's the definition for `ild`, along with an updated definition of canonical."
   ]
  },
  {
   "cell_type": "code",
   "execution_count": 22,
   "metadata": {},
   "outputs": [],
   "source": [
    "ild ← {(⊂⍺)⌷⍤1⊢⍵} ⍝ index last dimension\n",
    "canonical ← {⌊⌿decode symmetries ild ⍵}"
   ]
  },
  {
   "cell_type": "code",
   "execution_count": 23,
   "metadata": {},
   "outputs": [
    {
     "data": {
      "text/html": [
       "<span style=\"white-space:pre; font-family: monospace\">19683\n",
       "</span>"
      ]
     },
     "execution_count": 23,
     "metadata": {},
     "output_type": "execute_result"
    }
   ],
   "source": [
    "⍴ canonical encode ⍳3*9"
   ]
  },
  {
   "cell_type": "markdown",
   "metadata": {},
   "source": [
    "How many of these are distinct? We'd expect quite a few repetitions."
   ]
  },
  {
   "cell_type": "code",
   "execution_count": 24,
   "metadata": {},
   "outputs": [
    {
     "data": {
      "text/html": [
       "<span style=\"white-space:pre; font-family: monospace\">2862\n",
       "</span>"
      ]
     },
     "execution_count": 24,
     "metadata": {},
     "output_type": "execute_result"
    }
   ],
   "source": [
    "⍴∪canonical encode ⍳3*9"
   ]
  },
  {
   "cell_type": "markdown",
   "metadata": {},
   "source": [
    "That's a big simplification, but we can further reduce the number of board positions by eliminating\n",
    "some of the positions that can't crop up in play.\n",
    "\n",
    "One example: in any valid board position, there will be one fewer `○`'s than `×`'s after the first player has moved,\n",
    "and the number of `×` and `○` characters will be the same after the second player has moved.\n",
    "\n",
    "If we count the number of ones and twos in the vector representation, for any valid board position the number of ones will be the same or one greater than the number of twos.\n",
    "\n",
    "There's a neat way to check that in APL. Below you'll see the approach working on a small set of position vectors."
   ]
  },
  {
   "cell_type": "code",
   "execution_count": 25,
   "metadata": {},
   "outputs": [
    {
     "data": {
      "text/html": [
       "<span style=\"white-space:pre; font-family: monospace\">0 0 0 0 0 0 0 0 0\n",
       "0 0 0 0 0 0 0 0 1\n",
       "0 0 0 0 0 0 1 0 0\n",
       "0 0 0 0 0 0 1 0 1\n",
       "0 0 0 0 0 0 1 0 2\n",
       "0 0 0 0 0 0 2 0 0\n",
       "0 0 0 0 0 0 2 0 2\n",
       "2 2 2 2 2 2 2 2 2\n",
       "</span>"
      ]
     },
     "execution_count": 25,
     "metadata": {},
     "output_type": "execute_result"
    }
   ],
   "source": [
    "⊢ samples ← encode 0 1 9 10 11 18 20 19682 "
   ]
  },
  {
   "cell_type": "markdown",
   "metadata": {},
   "source": [
    "Of these, let's decide which are valid by counting the `1`'s and `2`'s by eye:\n",
    "\n",
    "`0 0 0 0 0 0 0 0 0` is valid\n",
    "\n",
    "`0 0 0 0 0 0 0 0 1` is valid\n",
    "\n",
    "`0 0 0 0 0 0 1 0 0` is valid\n",
    "\n",
    "`0 0 0 0 0 0 1 0 1` is **invalid** because `×` has played twice but `○` has not played at all\n",
    "\n",
    "`0 0 0 0 0 0 1 0 2` is valid\n",
    "\n",
    "`0 0 0 0 0 0 2 0 0` is **invalid**, because `○` has played before `×`\n",
    "\n",
    "`0 0 0 0 0 0 2 0 2` is **invalid** because `○` has played twice but `×` has not played at all\n",
    "\n",
    "`2 2 2 2 2 2 2 2 2` is **invalid**, because `○` has binged and covered the whole board!"
   ]
  },
  {
   "cell_type": "markdown",
   "metadata": {},
   "source": [
    "How can we implement these rules in APL?\n",
    "\n",
    "Let's start by considering the vector `0 0 0 0 0 0 1 0 2`."
   ]
  },
  {
   "cell_type": "code",
   "execution_count": 26,
   "metadata": {},
   "outputs": [
    {
     "data": {
      "text/html": [
       "<span style=\"white-space:pre; font-family: monospace\">0 0 0 0 0 0 1 0 0\n",
       "0 0 0 0 0 0 0 0 1\n",
       "</span>"
      ]
     },
     "execution_count": 26,
     "metadata": {},
     "output_type": "execute_result"
    }
   ],
   "source": [
    "v ← 0 0 0 0 0 0 1 0 2\n",
    "1 2 ∘.= v"
   ]
  },
  {
   "cell_type": "markdown",
   "metadata": {},
   "source": [
    "`∘.=` is an *equals outer product*.\n",
    "It produces an array which shows where each value in the argument on its left is equal to each value in the argument\n",
    "on its right.\n",
    "\n",
    "In this case, one argument is a 2-element vector, and the other is a 9 element vector, so the result is a 2 by 9 matrix of zeros and ones."
   ]
  },
  {
   "cell_type": "code",
   "execution_count": 27,
   "metadata": {},
   "outputs": [
    {
     "data": {
      "text/html": [
       "<span style=\"white-space:pre; font-family: monospace\">1 1\n",
       "</span>"
      ]
     },
     "execution_count": 27,
     "metadata": {},
     "output_type": "execute_result"
    }
   ],
   "source": [
    "+/1 2 ∘.= v"
   ]
  },
  {
   "cell_type": "markdown",
   "metadata": {},
   "source": [
    "`+/` is a *plus reduction*. It sums the values along the first dimension of n array.\n",
    "\n",
    "In this case it totals the number of 0s and the number of 1s in the original vector."
   ]
  },
  {
   "cell_type": "markdown",
   "metadata": {},
   "source": [
    "We can find the difference between the counts of 1s and 2s by applying `-/`. That's a *minus reduction*."
   ]
  },
  {
   "cell_type": "code",
   "execution_count": 28,
   "metadata": {},
   "outputs": [
    {
     "data": {
      "text/html": [
       "<span style=\"white-space:pre; font-family: monospace\">0\n",
       "</span>"
      ]
     },
     "execution_count": 28,
     "metadata": {},
     "output_type": "execute_result"
    }
   ],
   "source": [
    "-/+/1 2 ∘.= v"
   ]
  },
  {
   "cell_type": "markdown",
   "metadata": {},
   "source": [
    "That tells us that the number of `×`s and `○`s is the same.\n",
    "\n",
    "Let's put that code in a function I've named *cd* (short for count difference) and try another vector."
   ]
  },
  {
   "cell_type": "code",
   "execution_count": 29,
   "metadata": {},
   "outputs": [
    {
     "data": {
      "text/html": [
       "<span style=\"white-space:pre; font-family: monospace\">2\n",
       "</span>"
      ]
     },
     "execution_count": 29,
     "metadata": {},
     "output_type": "execute_result"
    }
   ],
   "source": [
    "cd ← {-/+/1 2 ∘.=⍵} \n",
    "cd 0 0 0 0 0 0 1 0 1"
   ]
  },
  {
   "cell_type": "markdown",
   "metadata": {},
   "source": [
    "This tells us that there are two more `×`s than `○`s, which means that the position cannto occur in play.\n",
    "\n",
    "For the position to be possible the difference must be 0 or 1.\n",
    "\n",
    "APL has a primitive function *membership*, represented by `∊`, which returns a 0 for each element on its left that is'nt in the vector on its right. "
   ]
  },
  {
   "cell_type": "code",
   "execution_count": 30,
   "metadata": {},
   "outputs": [
    {
     "data": {
      "text/html": [
       "<span style=\"white-space:pre; font-family: monospace\">1 0 1 0 1 0\n",
       "</span>"
      ]
     },
     "execution_count": 30,
     "metadata": {},
     "output_type": "execute_result"
    }
   ],
   "source": [
    "1 2 0 5 1 2 ∊ 0 1"
   ]
  },
  {
   "cell_type": "markdown",
   "metadata": {},
   "source": [
    "We can check the result of `cd` using `∊`"
   ]
  },
  {
   "cell_type": "code",
   "execution_count": 31,
   "metadata": {},
   "outputs": [
    {
     "data": {
      "text/html": [
       "<span style=\"white-space:pre; font-family: monospace\">0\n",
       "</span>"
      ]
     },
     "execution_count": 31,
     "metadata": {},
     "output_type": "execute_result"
    }
   ],
   "source": [
    "(cd 0 0 0 0 0 0 1 0 1) ∊ 0 1 ⍝ not a possible position"
   ]
  },
  {
   "cell_type": "code",
   "execution_count": 32,
   "metadata": {},
   "outputs": [
    {
     "data": {
      "text/html": [
       "<span style=\"white-space:pre; font-family: monospace\">1\n",
       "</span>"
      ]
     },
     "execution_count": 32,
     "metadata": {},
     "output_type": "execute_result"
    }
   ],
   "source": [
    "(cd 0 0 0 0 0 0 1 2 1) ∊ 0 1 ⍝ a possible position"
   ]
  },
  {
   "cell_type": "markdown",
   "metadata": {},
   "source": [
    "Those brackets are distracting! The code would be easier to read if the arguments to `∊` were reversed.\n",
    "\n",
    "APL has an operator *switch* `⍨` to do that."
   ]
  },
  {
   "cell_type": "code",
   "execution_count": 33,
   "metadata": {},
   "outputs": [
    {
     "data": {
      "text/html": [
       "<span style=\"white-space:pre; font-family: monospace\">1\n",
       "</span>"
      ]
     },
     "execution_count": 33,
     "metadata": {},
     "output_type": "execute_result"
    }
   ],
   "source": [
    "0 1 ∊⍨ cd 0 0 0 0 0 0 1 2 1"
   ]
  },
  {
   "cell_type": "markdown",
   "metadata": {},
   "source": [
    "In APL a *function* returns data as its result. An *operator* corresponds to what other languages call a *higher order function*. It takes functions and/or data and returns a *function* as its result."
   ]
  },
  {
   "cell_type": "markdown",
   "metadata": {},
   "source": [
    "Let's create a new function that will determine if a given position is ok (in other words, possible).\n",
    "Rather than using `cd` we will copy its code in-line"
   ]
  },
  {
   "cell_type": "code",
   "execution_count": 34,
   "metadata": {},
   "outputs": [
    {
     "data": {
      "text/html": [
       "<span style=\"white-space:pre; font-family: monospace\">1\n",
       "</span>"
      ]
     },
     "execution_count": 34,
     "metadata": {},
     "output_type": "execute_result"
    }
   ],
   "source": [
    "ok←{0 1∊⍨-⌿+/1 2∘.=⍵}      ⍝ do positions have counts of × and ○ that could occur in play?\n",
    "ok 0 0 0 0 0 0 1 2 1"
   ]
  },
  {
   "cell_type": "code",
   "execution_count": 35,
   "metadata": {},
   "outputs": [
    {
     "data": {
      "text/html": [
       "<span style=\"white-space:pre; font-family: monospace\">0\n",
       "</span>"
      ]
     },
     "execution_count": 35,
     "metadata": {},
     "output_type": "execute_result"
    }
   ],
   "source": [
    "ok 0 0 0 0 0 0 1 0 1"
   ]
  },
  {
   "cell_type": "markdown",
   "metadata": {},
   "source": [
    "What happens if we apply it to a matrix?"
   ]
  },
  {
   "cell_type": "code",
   "execution_count": 36,
   "metadata": {},
   "outputs": [
    {
     "data": {
      "text/html": [
       "<span style=\"white-space:pre; font-family: monospace\">1 1 1 0 1 0 0 0\n",
       "</span>"
      ]
     },
     "execution_count": 36,
     "metadata": {},
     "output_type": "execute_result"
    }
   ],
   "source": [
    "ok samples"
   ]
  },
  {
   "cell_type": "markdown",
   "metadata": {},
   "source": [
    "That's not right. The problem is that cd works on a vector but not a matrix. One small change will fix that.\n",
    "\n",
    "We need to make sure that the minus reduction will always be applied to the *first* dimension of its argument.\n",
    "\n",
    "Here's the updated version of`cd`"
   ]
  },
  {
   "cell_type": "code",
   "execution_count": 37,
   "metadata": {},
   "outputs": [
    {
     "data": {
      "text/html": [
       "<span style=\"white-space:pre; font-family: monospace\">1 1 1 0 1 0 0 0\n",
       "</span>"
      ]
     },
     "execution_count": 37,
     "metadata": {},
     "output_type": "execute_result"
    }
   ],
   "source": [
    "cd ← {-⌿+/1 2 ∘.=⍵}\n",
    "ok samples"
   ]
  },
  {
   "cell_type": "markdown",
   "metadata": {},
   "source": [
    "Let's check that the updated code has picked the possible configurations."
   ]
  },
  {
   "cell_type": "code",
   "execution_count": 38,
   "metadata": {},
   "outputs": [
    {
     "data": {
      "text/html": [
       "<span style=\"white-space:pre; font-family: monospace\">┌───┬───┬───┬───┐\n",
       "│...│...│...│...│\n",
       "│...│...│...│...│\n",
       "│...│..×│×..│×.○│\n",
       "└───┴───┴───┴───┘\n",
       "</span>"
      ]
     },
     "execution_count": 38,
     "metadata": {},
     "output_type": "execute_result"
    }
   ],
   "source": [
    "list samples⌿⍨ok samples"
   ]
  },
  {
   "cell_type": "markdown",
   "metadata": {},
   "source": [
    "Let's explore the whole set of canonical positions."
   ]
  },
  {
   "cell_type": "code",
   "execution_count": 39,
   "metadata": {},
   "outputs": [
    {
     "data": {
      "text/html": [
       "<span style=\"white-space:pre; font-family: monospace\">2862 9\n",
       "</span>"
      ]
     },
     "execution_count": 39,
     "metadata": {},
     "output_type": "execute_result"
    }
   ],
   "source": [
    "⍴uc ← encode ∪ canonical encode ⍳3*9"
   ]
  },
  {
   "cell_type": "markdown",
   "metadata": {},
   "source": [
    "`uc` is the matrix of unique canonical positions.\n",
    "\n",
    "Let's see which ones look possible."
   ]
  },
  {
   "cell_type": "code",
   "execution_count": 40,
   "metadata": {},
   "outputs": [
    {
     "data": {
      "text/html": [
       "<span style=\"white-space:pre; font-family: monospace\">850 9\n",
       "</span>"
      ]
     },
     "execution_count": 40,
     "metadata": {},
     "output_type": "execute_result"
    }
   ],
   "source": [
    "⍴ucp ← uc⌿⍨ok uc"
   ]
  },
  {
   "cell_type": "markdown",
   "metadata": {},
   "source": [
    "`ucp` contains a matrix of the unique coanonical possible positions.\n",
    "\n",
    "There are only 850, which is manageable.\n",
    "\n",
    "Here are the first 19. They just fit across the page without wrapping."
   ]
  },
  {
   "cell_type": "code",
   "execution_count": 41,
   "metadata": {
    "scrolled": true
   },
   "outputs": [
    {
     "data": {
      "text/html": [
       "<span style=\"white-space:pre; font-family: monospace\">┌───┬───┬───┬───┬───┬───┬───┬───┬───┬───┬───┬───┬───┬───┬───┬───┬───┬───┬───┐\n",
       "│...│...│...│...│...│...│...│...│...│...│...│...│...│...│...│...│...│...│...│\n",
       "│...│...│...│...│...│...│...│...│..×│..×│..×│..×│..×│..×│..×│..×│..×│..×│..×│\n",
       "│...│..×│.×.│.×○│.○×│×.○│××○│×○×│.×○│.○.│.○×│×.○│×○.│×○○│○..│○.×│○×.│○×○│○○×│\n",
       "└───┴───┴───┴───┴───┴───┴───┴───┴───┴───┴───┴───┴───┴───┴───┴───┴───┴───┴───┘\n",
       "</span>"
      ]
     },
     "execution_count": 41,
     "metadata": {},
     "output_type": "execute_result"
    }
   ],
   "source": [
    "list 19↑ucp"
   ]
  },
  {
   "cell_type": "markdown",
   "metadata": {},
   "source": [
    "It would be interesting to see a few ordered by move mumber.\n",
    "\n",
    "It's easy to find the move number for each row in `ucp`.\n",
    "It's just the total of non-zero values in that row."
   ]
  },
  {
   "cell_type": "code",
   "execution_count": 42,
   "metadata": {},
   "outputs": [
    {
     "data": {
      "text/html": [
       "<span style=\"white-space:pre; font-family: monospace\">850\n",
       "</span>"
      ]
     },
     "execution_count": 42,
     "metadata": {},
     "output_type": "execute_result"
    }
   ],
   "source": [
    "⍴mn ← +/ucp≠0"
   ]
  },
  {
   "cell_type": "markdown",
   "metadata": {},
   "source": [
    "APL has a pair of sorting functions called *upgrade* `⍋`and *downgrade* `⍒`.\n",
    "\n",
    "They return *permutation vectors* that will sort their arguments into ascending or descending order.\n",
    "\n",
    "TODO: include some discussion of this article: https://devblogs.microsoft.com/oldnewthing/20170102-00/?p=95095\n",
    "\n",
    "We can use upgrade on `mn` to reorder `ucp` and then display the first few plausible game positions.\n",
    "We'll also show which move number they ocurr at."
   ]
  },
  {
   "cell_type": "code",
   "execution_count": 43,
   "metadata": {},
   "outputs": [
    {
     "data": {
      "text/html": [
       "<span style=\"white-space:pre; font-family: monospace\">┌───┬───┬───┬───┬───┬───┬───┬───┬───┬───┬───┬───┬───┬───┬───┬───┬───┬───┬───┐\n",
       "│...│...│...│...│...│...│...│...│...│...│...│...│...│...│...│..×│...│...│...│\n",
       "│...│...│...│.×.│...│...│...│..×│..×│..○│.×.│.×.│.○.│.○.│×.○│...│...│...│..×│\n",
       "│...│..×│.×.│...│.×○│.○×│×.○│.○.│○..│×..│..○│.○.│..×│.×.│...│○..│××○│×○×│.×○│\n",
       "├───┼───┼───┼───┼───┼───┼───┼───┼───┼───┼───┼───┼───┼───┼───┼───┼───┼───┼───┤\n",
       "│0  │1  │1  │1  │2  │2  │2  │2  │2  │2  │2  │2  │2  │2  │2  │2  │3  │3  │3  │\n",
       "└───┴───┴───┴───┴───┴───┴───┴───┴───┴───┴───┴───┴───┴───┴───┴───┴───┴───┴───┘\n",
       "</span>"
      ]
     },
     "execution_count": 43,
     "metadata": {},
     "output_type": "execute_result"
    }
   ],
   "source": [
    "mnp ← ⍋mn\n",
    "↑(list  19↑ucp[mnp;]) (19↑mn[mnp])"
   ]
  },
  {
   "cell_type": "markdown",
   "metadata": {},
   "source": [
    "As you can see there are only three types of first move to which there are a total of twelve repsonses.\n",
    "\n",
    "Later in the game there will be positions in `ucp` that cannot happen in a real game. These are positions that could only happen *after* a player has won the game.\n",
    "\n",
    "We'll ignore that for now, as we have greatly reduced the number of positions we need to consider.\n",
    "\n",
    "What we *will* do is to save the decoded (integer) values for each plausible position, as these will be useful later. We'll display the first few values"
   ]
  },
  {
   "cell_type": "code",
   "execution_count": 44,
   "metadata": {},
   "outputs": [
    {
     "data": {
      "text/html": [
       "<span style=\"white-space:pre; font-family: monospace\">0 1 3 5 7 11 14 16 32 33 34 38 42 44 45 46 48 50 52\n",
       "</span>"
      ]
     },
     "execution_count": 44,
     "metadata": {},
     "output_type": "execute_result"
    }
   ],
   "source": [
    "⊢19↑ucpn ← decode ucp"
   ]
  },
  {
   "cell_type": "markdown",
   "metadata": {},
   "source": [
    "Let's save the workspace."
   ]
  },
  {
   "cell_type": "code",
   "execution_count": 45,
   "metadata": {},
   "outputs": [
    {
     "data": {
      "text/html": [
       "<span style=\"white-space:pre; font-family: monospace\">notebook3.dws saved Wed Jan  6 09:19:18 2021\n",
       "</span>"
      ]
     },
     "execution_count": 45,
     "metadata": {},
     "output_type": "execute_result"
    }
   ],
   "source": [
    ")save notebook3 -force"
   ]
  },
  {
   "cell_type": "code",
   "execution_count": 46,
   "metadata": {},
   "outputs": [
    {
     "data": {
      "text/html": [
       "<span style=\"white-space:pre; font-family: monospace\">canonical       cd      decode  encode  ild     list    m       ok      r       see     show    \n",
       "</span>"
      ]
     },
     "execution_count": 46,
     "metadata": {},
     "output_type": "execute_result"
    }
   ],
   "source": [
    ")fns"
   ]
  },
  {
   "cell_type": "code",
   "execution_count": null,
   "metadata": {},
   "outputs": [],
   "source": []
  }
 ],
 "metadata": {
  "kernelspec": {
   "display_name": "Dyalog APL",
   "language": "apl",
   "name": "dyalog-kernel"
  },
  "language_info": {
   "file_extension": ".apl",
   "mimetype": "text/apl",
   "name": "APL"
  }
 },
 "nbformat": 4,
 "nbformat_minor": 4
}
