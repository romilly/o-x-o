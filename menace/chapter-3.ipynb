{
 "cells": [
  {
   "cell_type": "markdown",
   "metadata": {},
   "source": [
    "# Reinforcement Learning\n",
    "\n",
    "## Exploring MENACE in APL\n",
    "\n",
    "Michie's MENACE used matchboxes to remember what had happened in previous games.\n",
    "Michie used one matchbox for each possible board configuration, and the player picked\n",
    "a coloured bead at random to decide what move MENACE would make.\n",
    "\n",
    "How many relevant board configurations are there?\n",
    "\n",
    "This isn't a trivial question, since many board configurations could never be reached in play.\n",
    "\n",
    "Theree's an obvious upper limit, though. We can count all the board configurations without considering whether they could be reached.\n",
    "\n",
    "Each square of the board can be empty, contain a nought or contain a cross.\n",
    "There are three possibilities for each of the nine cells, so there are three to the power 9 in total.\n",
    "\n",
    "Here's how we calculate that in APL.\n",
    "\n",
    "```{note}\n",
    "Exponentiation is represented by `*` in APL.\n",
    "APL uses `×` for multiplication.\n",
    "```"
   ]
  },
  {
   "cell_type": "code",
   "execution_count": 1,
   "metadata": {},
   "outputs": [
    {
     "data": {
      "text/html": [
       "<span style=\"white-space:pre; font-family: monospace\">done\n",
       "</span>"
      ]
     },
     "execution_count": 1,
     "metadata": {},
     "output_type": "execute_result"
    },
    {
     "data": {
      "text/html": [
       "<span style=\"white-space:pre; font-family: monospace\">19683\n",
       "</span>"
      ]
     },
     "execution_count": 1,
     "metadata": {},
     "output_type": "execute_result"
    }
   ],
   "source": [
    "3*9"
   ]
  },
  {
   "cell_type": "markdown",
   "metadata": {},
   "source": [
    "It's interesting to know how many positions there are, but we'll need to eliminate the ones that are impossible\n",
    "or redundant.\n",
    "\n",
    "We need some way of representing a board position.\n",
    "\n",
    "We can show each board position as a 3 by 3 matrix of characters: a `×` for a cross, a `○` for a nought,\n",
    "and  a `.` for an unfilled square. That means that an empty board does not just look like white space.\n",
    "\n",
    "Suppose the first player placed an 'x' in the centre.\n",
    "We could create that board like this:"
   ]
  },
  {
   "cell_type": "code",
   "execution_count": 2,
   "metadata": {},
   "outputs": [
    {
     "data": {
      "text/html": [
       "<span style=\"white-space:pre; font-family: monospace\">...\n",
       ".×.\n",
       "...\n",
       "</span>"
      ]
     },
     "execution_count": 2,
     "metadata": {},
     "output_type": "execute_result"
    }
   ],
   "source": [
    "3 3⍴'....×....'"
   ]
  },
  {
   "cell_type": "markdown",
   "metadata": {},
   "source": [
    "In APL we create character literals by enclosing their characters in single quotation marks.\n",
    "The result is a character *vector* (a list of characters).\n",
    "\n",
    "We can create a matrix by asking APL to reshape the vector.\n",
    "`⍴` stands for *reshape*; it reshapes the array on its right using the shape on its left.\n",
    "\n",
    "That way of displaying a board position is great for humans, but there are better ways to represent a board\n",
    "in an APL program. The way we'll do it is to represent a board as a numeric vector.\n",
    "The vector will have a zero for an unfilled position, a 1 for an `×` and a 2 for a `○`.\n",
    "\n",
    "The board we saw above would be represented by the vector `0 0 0 0 1 0 0 0 0`.\n",
    "\n",
    "How can we convert that to something we can visualise? We'll need to use the vector as an index to an array of\n",
    "characters.\n",
    "\n",
    "As you may know, the mathematical world is divided about how to index things.\n",
    "Pure mathematicians tend to count from 0, but applied mathematicians often count from 1.\n",
    "\n",
    "```{note}\n",
    "APL supports both approaches. You tell APL which you want to use by setting the *index origin* to 0 or 1.\n",
    "\n",
    "In APL, the index origin is a system variable called `⎕io`. The line below sets it to 0.\n",
    "```"
   ]
  },
  {
   "cell_type": "code",
   "execution_count": 3,
   "metadata": {},
   "outputs": [],
   "source": [
    "⎕io ← 0"
   ]
  },
  {
   "cell_type": "markdown",
   "metadata": {},
   "source": [
    "As you can see, in APL, `←` is used for assignment. (The `=` symbol is only used to test for equality.)\n",
    "\n",
    "Here's the code to convert the vector `0 0 0 0 1 0 0 0 0` to a human-friendly board position."
   ]
  },
  {
   "cell_type": "code",
   "execution_count": 4,
   "metadata": {},
   "outputs": [
    {
     "data": {
      "text/html": [
       "<span style=\"white-space:pre; font-family: monospace\">...\n",
       ".×.\n",
       "...\n",
       "</span>"
      ]
     },
     "execution_count": 4,
     "metadata": {},
     "output_type": "execute_result"
    }
   ],
   "source": [
    "3 3⍴'.×○'[0 0 0 0 1 0 0 0 0]"
   ]
  },
  {
   "cell_type": "markdown",
   "metadata": {},
   "source": [
    "We're going to use that expression whenever we want to  turn a board vector into a human-friendly diagram.\n",
    "\n",
    "We can use APL's *direct definition* to create a function which we can use repeatedly."
   ]
  },
  {
   "cell_type": "code",
   "execution_count": 5,
   "metadata": {},
   "outputs": [
    {
     "data": {
      "text/html": [
       "<span style=\"white-space:pre; font-family: monospace\">...\n",
       ".×.\n",
       "...\n",
       "</span>"
      ]
     },
     "execution_count": 5,
     "metadata": {},
     "output_type": "execute_result"
    }
   ],
   "source": [
    "show ← {3 3⍴'.×○'[⍵]}\n",
    "show 0 0 0 0 1 0 0 0 0 "
   ]
  },
  {
   "cell_type": "markdown",
   "metadata": {},
   "source": [
    "How can we generate all the 19683 board positions?\n",
    "\n",
    "The first step is to generate all the numbers from 0 to 19682.\n",
    "\n",
    "In APL we can do that using `⍳`. IN the lines below, we'll store the list of numbers in a variable called `boards` and then display the first 6 numbers just to check that APL did what we wanted."
   ]
  },
  {
   "cell_type": "code",
   "execution_count": 6,
   "metadata": {},
   "outputs": [
    {
     "data": {
      "text/html": [
       "<span style=\"white-space:pre; font-family: monospace\">0 1 2 3 4 5\n",
       "</span>"
      ]
     },
     "execution_count": 6,
     "metadata": {},
     "output_type": "execute_result"
    }
   ],
   "source": [
    "boards ← ⍳19683\n",
    "boards[0 1 2 3 4 5]"
   ]
  },
  {
   "cell_type": "markdown",
   "metadata": {},
   "source": [
    "That looks good.\n",
    "\n",
    "We picked the first six elements of `boards` using indexing, but there's an easier way. We can use APL's *take* function."
   ]
  },
  {
   "cell_type": "code",
   "execution_count": 7,
   "metadata": {},
   "outputs": [
    {
     "data": {
      "text/html": [
       "<span style=\"white-space:pre; font-family: monospace\">0 1 2 3 4 5\n",
       "</span>"
      ]
     },
     "execution_count": 7,
     "metadata": {},
     "output_type": "execute_result"
    }
   ],
   "source": [
    "6↑boards"
   ]
  },
  {
   "cell_type": "markdown",
   "metadata": {},
   "source": [
    "How can we convert those numbers to board positions?\n",
    "\n",
    "We can use a *primitive* (built-in) APL function called encode `⊤` which converts an integer to a representation in any number base we chose. We'll convert each number to its *ternary* (base 3) representation."
   ]
  },
  {
   "cell_type": "code",
   "execution_count": 8,
   "metadata": {},
   "outputs": [],
   "source": [
    "encoded ← (9⍴3)⊤boards"
   ]
  },
  {
   "cell_type": "markdown",
   "metadata": {},
   "source": [
    "What's the result? We won't display it, since it contains a large array, but we can find out its shape."
   ]
  },
  {
   "cell_type": "code",
   "execution_count": 9,
   "metadata": {},
   "outputs": [
    {
     "data": {
      "text/html": [
       "<span style=\"white-space:pre; font-family: monospace\">9 19683\n",
       "</span>"
      ]
     },
     "execution_count": 9,
     "metadata": {},
     "output_type": "execute_result"
    }
   ],
   "source": [
    "⍴encoded"
   ]
  },
  {
   "cell_type": "markdown",
   "metadata": {},
   "source": [
    "Earlier we used `⍴` with a shape on the left and and an array on the right to reshape a vector into a matrix. Here we used `⍴` with just an array on the right. Used that way, `⍴` returns the shape of the array.\n",
    "\n",
    "We can use `↑` to take 9 rows and 6 columns from the encoded matrix."
   ]
  },
  {
   "cell_type": "code",
   "execution_count": 10,
   "metadata": {},
   "outputs": [
    {
     "data": {
      "text/html": [
       "<span style=\"white-space:pre; font-family: monospace\">0 0 0 0 0 0\n",
       "0 0 0 0 0 0\n",
       "0 0 0 0 0 0\n",
       "0 0 0 0 0 0\n",
       "0 0 0 0 0 0\n",
       "0 0 0 0 0 0\n",
       "0 0 0 0 0 0\n",
       "0 0 0 1 1 1\n",
       "0 1 2 0 1 2\n",
       "</span>"
      ]
     },
     "execution_count": 10,
     "metadata": {},
     "output_type": "execute_result"
    }
   ],
   "source": [
    "9 6↑encoded"
   ]
  },
  {
   "cell_type": "markdown",
   "metadata": {},
   "source": [
    "Each column is a board position. It feels more natural to have the board positions as rows, and APL has a handy transpose function `⍉` which will do the job."
   ]
  },
  {
   "cell_type": "code",
   "execution_count": 11,
   "metadata": {},
   "outputs": [
    {
     "data": {
      "text/html": [
       "<span style=\"white-space:pre; font-family: monospace\">0 0 0 0 0 0 0 0 0\n",
       "0 0 0 0 0 0 0 0 1\n",
       "0 0 0 0 0 0 0 0 2\n",
       "0 0 0 0 0 0 0 1 0\n",
       "0 0 0 0 0 0 0 1 1\n",
       "0 0 0 0 0 0 0 1 2\n",
       "</span>"
      ]
     },
     "execution_count": 11,
     "metadata": {},
     "output_type": "execute_result"
    }
   ],
   "source": [
    "⍉9 6↑encoded"
   ]
  },
  {
   "cell_type": "markdown",
   "metadata": {},
   "source": [
    "We're going to do a lot of encoding, so it makes sense to create an `encode` function we can use repeatedly."
   ]
  },
  {
   "cell_type": "code",
   "execution_count": 12,
   "metadata": {},
   "outputs": [],
   "source": [
    "encode ← {⍉(9⍴3)⊤⍵} ⍝ integer(s) to board vector/matrix"
   ]
  },
  {
   "cell_type": "markdown",
   "metadata": {},
   "source": [
    "Lets' try that out."
   ]
  },
  {
   "cell_type": "code",
   "execution_count": 13,
   "metadata": {},
   "outputs": [
    {
     "data": {
      "text/html": [
       "<span style=\"white-space:pre; font-family: monospace\">0 0 0 0 0 0 0 0 0\n",
       "0 0 0 0 0 0 0 0 1\n",
       "0 0 0 0 0 0 0 0 2\n",
       "0 0 0 0 0 0 0 1 0\n",
       "0 0 0 0 0 0 0 1 1\n",
       "0 0 0 0 0 0 0 1 2\n",
       "</span>"
      ]
     },
     "execution_count": 13,
     "metadata": {},
     "output_type": "execute_result"
    }
   ],
   "source": [
    "encode ⍳6"
   ]
  },
  {
   "cell_type": "markdown",
   "metadata": {},
   "source": [
    "Later on we will want to go in the opposite direction from a vector or vectors to the numbers that correspond to each one.\n",
    "\n",
    "The function `decode` does that."
   ]
  },
  {
   "cell_type": "code",
   "execution_count": 14,
   "metadata": {},
   "outputs": [],
   "source": [
    "decode ← {3⊥⍉⍵} "
   ]
  },
  {
   "cell_type": "code",
   "execution_count": 15,
   "metadata": {},
   "outputs": [
    {
     "data": {
      "text/html": [
       "<span style=\"white-space:pre; font-family: monospace\">0 1 2 3 4 5\n",
       "</span>"
      ]
     },
     "execution_count": 15,
     "metadata": {},
     "output_type": "execute_result"
    }
   ],
   "source": [
    "decode encode ⍳6"
   ]
  },
  {
   "cell_type": "markdown",
   "metadata": {},
   "source": [
    "What do these boards look like? Let's try to use the show function we wrote earlier."
   ]
  },
  {
   "cell_type": "code",
   "execution_count": 16,
   "metadata": {},
   "outputs": [
    {
     "data": {
      "text/html": [
       "<span style=\"white-space:pre; font-family: monospace\">...\n",
       "...\n",
       "...\n",
       "</span>"
      ]
     },
     "execution_count": 16,
     "metadata": {},
     "output_type": "execute_result"
    }
   ],
   "source": [
    "show encode ⍳6"
   ]
  },
  {
   "cell_type": "markdown",
   "metadata": {},
   "source": [
    "Oops! That just shows the first board position, which is rather boring, and not what we wanted. The current definition of `show` uses `3 3⍴` to generate its result, so we only ever get 9 characters arranged as a 3 by 3 matrix. We need to modify `show` so that it displays each board.\n",
    "\n",
    "We'll use APL's `rank` operator `⍤` which we can use to control how the code is applied to the function's argument.\n",
    "\n",
    "In this case we want `show` to apply to each vector along the last dimension of the argument we provide.\n",
    "\n",
    "`3 3⍴⍤ 1` allows us to do that. The `⊢` just serves to separate the `1` used with rank from the code that picks the characters to use as an argument."
   ]
  },
  {
   "cell_type": "code",
   "execution_count": 17,
   "metadata": {},
   "outputs": [
    {
     "data": {
      "text/html": [
       "<span style=\"white-space:pre; font-family: monospace\">...\n",
       "...\n",
       "...\n",
       "   \n",
       "...\n",
       "...\n",
       "..×\n",
       "   \n",
       "...\n",
       "...\n",
       "..○\n",
       "   \n",
       "...\n",
       "...\n",
       ".×.\n",
       "   \n",
       "...\n",
       "...\n",
       ".××\n",
       "   \n",
       "...\n",
       "...\n",
       ".×○\n",
       "</span>"
      ]
     },
     "execution_count": 17,
     "metadata": {},
     "output_type": "execute_result"
    }
   ],
   "source": [
    "show ← {3 3⍴⍤ 1 ⊢'.×○'[⍵]}\n",
    "show encode ⍳6"
   ]
  },
  {
   "cell_type": "markdown",
   "metadata": {},
   "source": [
    "Let's look at the shape of show's result."
   ]
  },
  {
   "cell_type": "code",
   "execution_count": 18,
   "metadata": {},
   "outputs": [
    {
     "data": {
      "text/html": [
       "<span style=\"white-space:pre; font-family: monospace\">6 3 3\n",
       "</span>"
      ]
     },
     "execution_count": 18,
     "metadata": {},
     "output_type": "execute_result"
    }
   ],
   "source": [
    "⍴show encode ⍳6"
   ]
  },
  {
   "cell_type": "markdown",
   "metadata": {},
   "source": [
    "`show` now converts each vector on its right to a matrix. If we apply `show` to a matrix with one board per row it returns a 3d array with one plane for each board configuration.\n",
    "\n",
    "If there aren't too many boards it can be easier to see the positions going *across* the page rather than down it.\n",
    "\n",
    "There's an easy way to do that."
   ]
  },
  {
   "cell_type": "code",
   "execution_count": 19,
   "metadata": {},
   "outputs": [
    {
     "data": {
      "text/html": [
       "<span style=\"white-space:pre; font-family: monospace\">┌───┬───┬───┬───┬───┬───┐\n",
       "│...│...│...│...│...│...│\n",
       "│...│...│...│...│...│...│\n",
       "│...│..×│..○│.×.│.××│.×○│\n",
       "└───┴───┴───┴───┴───┴───┘\n",
       "</span>"
      ]
     },
     "execution_count": 19,
     "metadata": {},
     "output_type": "execute_result"
    }
   ],
   "source": [
    "⊂⍤2 show encode ⍳6"
   ]
  },
  {
   "cell_type": "markdown",
   "metadata": {},
   "source": [
    "The expression `⊂⍤2` converts the cube of characters returned by `show` into a vector (list) of matrices.\n",
    "\n",
    "We've now created the tools we need to work on the next stage of our implementation of MENACE.\n",
    "\n",
    "In the next notebook we will look at the relationship between symmetries (rotations and reflections) of board configurations.\n",
    "\n",
    "We will want to use `encode` and `show` so we will save our work ready to reuse in the next notebook.\n",
    "\n",
    "`)save notebook3` is an APL *system command*. It saves the functions and variables we've created in a *workspace* file called `notebook3.dws`.\n",
    "\n",
    "In this case we need to use the `-force` option.\n",
    "When we openedthe notebook it silently loaded a workspace with a different name.\n",
    "APL will not change that name unless we tell it to."
   ]
  },
  {
   "cell_type": "code",
   "execution_count": 20,
   "metadata": {},
   "outputs": [
    {
     "data": {
      "text/html": [
       "<span style=\"white-space:pre; font-family: monospace\">notebook3.dws saved Fri Dec 11 12:22:47 2020\n",
       "</span>"
      ]
     },
     "execution_count": 20,
     "metadata": {},
     "output_type": "execute_result"
    }
   ],
   "source": [
    ")save notebook3 -force"
   ]
  },
  {
   "cell_type": "code",
   "execution_count": null,
   "metadata": {},
   "outputs": [],
   "source": []
  }
 ],
 "metadata": {
  "kernelspec": {
   "display_name": "Dyalog APL",
   "language": "apl",
   "name": "dyalog-kernel"
  },
  "language_info": {
   "file_extension": ".apl",
   "mimetype": "text/apl",
   "name": "APL"
  }
 },
 "nbformat": 4,
 "nbformat_minor": 4
}
