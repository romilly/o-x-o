{
 "cells": [
  {
   "cell_type": "markdown",
   "metadata": {},
   "source": [
    "## Finding the next move\n",
    "\n",
    "We've built up a useful collection of APL tools. We've got almost all the code we need to implement MENACE.\n",
    "\n",
    "In this chapter we will add another function to our toolbox.\n",
    "It will look at the possible moves from a given board position.\n",
    "\n",
    "First, as usual, we will copy in work from the previous chapter and set the index origin to zero."
   ]
  },
  {
   "cell_type": "code",
   "execution_count": 1,
   "metadata": {},
   "outputs": [
    {
     "data": {
      "text/html": [
       "<span style=\"white-space:pre; font-family: monospace\">done\n",
       "</span>"
      ]
     },
     "execution_count": 1,
     "metadata": {},
     "output_type": "execute_result"
    },
    {
     "data": {
      "text/html": [
       "<span style=\"white-space:pre; font-family: monospace\">./notebook4.dws saved Wed Dec 30 11:41:51 2020\n",
       "</span>"
      ]
     },
     "execution_count": 1,
     "metadata": {},
     "output_type": "execute_result"
    }
   ],
   "source": [
    ")copy notebook4"
   ]
  },
  {
   "cell_type": "code",
   "execution_count": 2,
   "metadata": {},
   "outputs": [],
   "source": [
    "⎕io ← 0"
   ]
  },
  {
   "cell_type": "code",
   "execution_count": 3,
   "metadata": {},
   "outputs": [
    {
     "data": {
      "text/html": [
       "<span style=\"white-space:pre; font-family: monospace\">asymmetric      board1  boards  encoded hereDir i       less    mi      mn      mnp     mr180   mr270   mr90    r180    r270    r90     samples start   sym     symmetric       symmetries      uc      ucp     ucpn    v       wpi     \n",
       "</span>"
      ]
     },
     "execution_count": 3,
     "metadata": {},
     "output_type": "execute_result"
    }
   ],
   "source": [
    ")vars"
   ]
  },
  {
   "cell_type": "markdown",
   "metadata": {},
   "source": [
    "We'll start by developing a function that will display all the possible next moves for a given board position.\n",
    "\n",
    "We'll develop and test our work using the positions we stored in `samples`. You may remember than not all of those positions could be reached in play, but they can still be used to develop and test our *next* function."
   ]
  },
  {
   "cell_type": "markdown",
   "metadata": {},
   "source": [
    "Here are the samples we created earlier."
   ]
  },
  {
   "cell_type": "code",
   "execution_count": 4,
   "metadata": {},
   "outputs": [
    {
     "data": {
      "text/html": [
       "<span style=\"white-space:pre; font-family: monospace\">0 0 0 0 0 0 0 0 0\n",
       "0 0 0 0 0 0 0 0 1\n",
       "0 0 0 0 0 0 1 0 0\n",
       "0 0 0 0 0 0 1 0 1\n",
       "0 0 0 0 0 0 1 0 2\n",
       "0 0 0 0 0 0 2 0 0\n",
       "0 0 0 0 0 0 2 0 2\n",
       "2 2 2 2 2 2 2 2 2\n",
       "</span>"
      ]
     },
     "execution_count": 4,
     "metadata": {},
     "output_type": "execute_result"
    }
   ],
   "source": [
    "samples\n"
   ]
  },
  {
   "cell_type": "code",
   "execution_count": 5,
   "metadata": {},
   "outputs": [
    {
     "data": {
      "text/html": [
       "<span style=\"white-space:pre; font-family: monospace\">┌───┬───┬───┬───┬───┬───┬───┬───┐\n",
       "│...│...│...│...│...│...│...│○○○│\n",
       "│...│...│...│...│...│...│...│○○○│\n",
       "│...│..×│×..│×.×│×.○│○..│○.○│○○○│\n",
       "└───┴───┴───┴───┴───┴───┴───┴───┘\n",
       "</span>"
      ]
     },
     "execution_count": 5,
     "metadata": {},
     "output_type": "execute_result"
    }
   ],
   "source": [
    "list samples"
   ]
  },
  {
   "cell_type": "markdown",
   "metadata": {},
   "source": [
    "The core idea is that, given a board position, we will display all the possible moves by filling in the blank squares by the appropriate digit.\n",
    "\n",
    "Here's an example using one of the samples with the board on the left and the output on the right.\n",
    "\n",
    "```\n",
    "┌───┬───┐\n",
    "│...│123│\n",
    "│...│456│\n",
    "│×.○│×7○│\n",
    "└───┴───┘\n",
    "```"
   ]
  },
  {
   "cell_type": "markdown",
   "metadata": {},
   "source": [
    "We want to put the digits one to seven into the blank cells.\n",
    "\n",
    "There are two issues here.\n",
    "1. The result should be a character matrix, so we want to put the *characters* `1` to `7` into the appropriate cells of the matrix.\n",
    "1. Indexing a vector into a matrix is a bit ticky. Life wold be easier if we could index into a vector. Then we could reshape the result back to a three by three matrix afterwards.\n",
    "\n",
    "We'll experiment and work our way, step by step, towards a function to do that."
   ]
  },
  {
   "cell_type": "code",
   "execution_count": 6,
   "metadata": {},
   "outputs": [
    {
     "data": {
      "text/html": [
       "<span style=\"white-space:pre; font-family: monospace\">0 0 0 0 0 0 1 0 2\n",
       "</span>"
      ]
     },
     "execution_count": 6,
     "metadata": {},
     "output_type": "execute_result"
    }
   ],
   "source": [
    "⊢pos4 ← samples[4;]"
   ]
  },
  {
   "cell_type": "code",
   "execution_count": 7,
   "metadata": {},
   "outputs": [
    {
     "data": {
      "text/html": [
       "<span style=\"white-space:pre; font-family: monospace\">...\n",
       "...\n",
       "×.○\n",
       "</span>"
      ]
     },
     "execution_count": 7,
     "metadata": {},
     "output_type": "execute_result"
    }
   ],
   "source": [
    "show pos4"
   ]
  },
  {
   "cell_type": "markdown",
   "metadata": {},
   "source": [
    "We want to identify the empty cells on the board. That's easy. They are the zero items in the vector `pos4`."
   ]
  },
  {
   "cell_type": "code",
   "execution_count": 8,
   "metadata": {},
   "outputs": [
    {
     "data": {
      "text/html": [
       "<span style=\"white-space:pre; font-family: monospace\">1 1 1 1 1 1 0 1 0\n",
       "</span>"
      ]
     },
     "execution_count": 8,
     "metadata": {},
     "output_type": "execute_result"
    }
   ],
   "source": [
    "⊢blanks ← 0=pos4"
   ]
  },
  {
   "cell_type": "markdown",
   "metadata": {},
   "source": [
    "Where are they in the vector?\n",
    "\n",
    "There's an APL primitive to do that :)\n",
    "\n",
    "It's *Where*, represented by `⍸`. It converts a boolean vector to a vector of indices, one index for each `1` in the vector."
   ]
  },
  {
   "cell_type": "code",
   "execution_count": 9,
   "metadata": {},
   "outputs": [
    {
     "data": {
      "text/html": [
       "<span style=\"white-space:pre; font-family: monospace\">0 1 2 3 4 5 7\n",
       "</span>"
      ]
     },
     "execution_count": 9,
     "metadata": {},
     "output_type": "execute_result"
    }
   ],
   "source": [
    "⍸blanks"
   ]
  },
  {
   "cell_type": "markdown",
   "metadata": {},
   "source": [
    "How many blank cells are there? That's just a *plus reduction* written `+/`"
   ]
  },
  {
   "cell_type": "code",
   "execution_count": 10,
   "metadata": {},
   "outputs": [
    {
     "data": {
      "text/html": [
       "<span style=\"white-space:pre; font-family: monospace\">7\n",
       "</span>"
      ]
     },
     "execution_count": 10,
     "metadata": {},
     "output_type": "execute_result"
    }
   ],
   "source": [
    "+/blanks"
   ]
  },
  {
   "cell_type": "markdown",
   "metadata": {},
   "source": [
    "Let's create the characters `1` to `7`. We'll use our old friend `⍳` to generate the numbers, and then another APL primitive function called *format* `⍕` to turn the numbers into characters.\n",
    "\n",
    "If we provide `⍕` with the vector 1 0 on its left, it will format the numbers on its right into one-character fields."
   ]
  },
  {
   "cell_type": "code",
   "execution_count": 11,
   "metadata": {},
   "outputs": [
    {
     "data": {
      "text/html": [
       "<span style=\"white-space:pre; font-family: monospace\">1234567\n",
       "</span>"
      ]
     },
     "execution_count": 11,
     "metadata": {},
     "output_type": "execute_result"
    }
   ],
   "source": [
    "⊢1 0⍕1+⍳+/blanks"
   ]
  },
  {
   "cell_type": "markdown",
   "metadata": {},
   "source": [
    "Let's create and display a board matrix based on pos4."
   ]
  },
  {
   "cell_type": "code",
   "execution_count": 12,
   "metadata": {},
   "outputs": [
    {
     "data": {
      "text/html": [
       "<span style=\"white-space:pre; font-family: monospace\">...\n",
       "...\n",
       "×.○\n",
       "</span>"
      ]
     },
     "execution_count": 12,
     "metadata": {},
     "output_type": "execute_result"
    }
   ],
   "source": [
    "⊢show pos4"
   ]
  },
  {
   "cell_type": "markdown",
   "metadata": {},
   "source": [
    "We've created a vector of characters and a vector of of indices.\n",
    "\n",
    "If we\n",
    "1. Turn `board4` into a vector,\n",
    "1. Index the charcaters into the vector using those indices, and\n",
    "1. reshape the result back into a 3 by 3 matrix\n",
    "\n",
    "we're done!"
   ]
  },
  {
   "cell_type": "code",
   "execution_count": 13,
   "metadata": {},
   "outputs": [
    {
     "data": {
      "text/html": [
       "<span style=\"white-space:pre; font-family: monospace\">123\n",
       "456\n",
       "×7○\n",
       "</span>"
      ]
     },
     "execution_count": 13,
     "metadata": {},
     "output_type": "execute_result"
    }
   ],
   "source": [
    "bv ← ,show pos4\n",
    "bv[⍸0=pos4] ← 1 0⍕1+⍳+/0=pos4\n",
    "3 3⍴bv"
   ]
  },
  {
   "cell_type": "markdown",
   "metadata": {},
   "source": [
    "We can combine all of that into a function `moves`"
   ]
  },
  {
   "cell_type": "code",
   "execution_count": 14,
   "metadata": {},
   "outputs": [
    {
     "data": {
      "text/html": [
       "<span style=\"white-space:pre; font-family: monospace\">123\n",
       "456\n",
       "×7○\n",
       "</span>"
      ]
     },
     "execution_count": 14,
     "metadata": {},
     "output_type": "execute_result"
    }
   ],
   "source": [
    "moves ← {blanks ← 0=⍵ ⋄ bv ← ,show ⍵ ⋄ bv[⍸blanks] ← 1 0⍕1+⍳+/blanks ⋄ 3 3⍴bv }\n",
    "moves pos4"
   ]
  },
  {
   "cell_type": "markdown",
   "metadata": {},
   "source": [
    "We'll save the work we did in this chapter."
   ]
  },
  {
   "cell_type": "code",
   "execution_count": 15,
   "metadata": {},
   "outputs": [
    {
     "data": {
      "text/html": [
       "<span style=\"white-space:pre; font-family: monospace\">notebook5.dws saved Wed Dec 30 11:42:23 2020\n",
       "</span>"
      ]
     },
     "execution_count": 15,
     "metadata": {},
     "output_type": "execute_result"
    }
   ],
   "source": [
    ")save notebook5 -force"
   ]
  },
  {
   "cell_type": "markdown",
   "metadata": {},
   "source": [
    "In the next chapter we will start to implement a MENACE player."
   ]
  }
 ],
 "metadata": {
  "kernelspec": {
   "display_name": "Dyalog APL",
   "language": "apl",
   "name": "dyalog-kernel"
  },
  "language_info": {
   "file_extension": ".apl",
   "mimetype": "text/apl",
   "name": "APL"
  }
 },
 "nbformat": 4,
 "nbformat_minor": 4
}
