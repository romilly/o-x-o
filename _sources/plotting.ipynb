{
 "cells": [
  {
   "cell_type": "code",
   "execution_count": 1,
   "metadata": {},
   "outputs": [
    {
     "data": {
      "text/html": [
       "<span style=\"white-space:pre; font-family: monospace\">done\n",
       "</span>"
      ]
     },
     "execution_count": 1,
     "metadata": {},
     "output_type": "execute_result"
    }
   ],
   "source": [
    "'InitCauseway' 'View'⎕CY'sharpplot'"
   ]
  },
  {
   "cell_type": "code",
   "execution_count": 2,
   "metadata": {},
   "outputs": [],
   "source": [
    "InitCauseway ⍬ "
   ]
  },
  {
   "cell_type": "code",
   "execution_count": 3,
   "metadata": {},
   "outputs": [],
   "source": [
    "sp←⎕NEW Causeway.SharpPlot"
   ]
  },
  {
   "cell_type": "code",
   "execution_count": 4,
   "metadata": {},
   "outputs": [],
   "source": [
    "sp.DrawLineGraph ⊂ ↓+\\¯0.5+?5 1e2⍴0  ⍝ single argument must be enclosed "
   ]
  },
  {
   "cell_type": "code",
   "execution_count": 5,
   "metadata": {},
   "outputs": [
    {
     "data": {
      "text/html": [
       "<svg style=\"height: -webkit-fill-available; width: -webkit-fill-available;\"><svg version=\"1.1\" baseProfile=\"full\" width=\"100%\" height=\"100%\" viewBox=\"0 0 4320 3240\"  xmlns=\"http://www.w3.org/2000/svg\" xmlns:xlink=\"http://www.w3.org/1999/xlink\" xmlns:ev=\"http://www.w3.org/2001/xml-events\" >\n",
       "<desc>Created by Causeway SVG engine - SharpPlot v3.67.1</desc>\n",
       "<g stroke-miterlimit=\"100\">\n",
       "<desc>Paint the paper =====</desc>\n",
       " <g fill=\"White\" >\n",
       "  <rect x=\"0\" y=\"0\" width=\"4320\" height=\"3240\" />\n",
       " </g>\n",
       "<desc>Border =====</desc>\n",
       "<desc>Region =====</desc>\n",
       "<desc>X-Axis Ticks =====</desc>\n",
       "<desc>X-Axis tickmarks</desc>\n",
       " <path fill=\"none\" stroke-width=\"7.2\" stroke=\"Black\" d=\"M400 2720L400 2764M770 2720L770 2764M1140 2720L1140 2764M1510 2720L1510 2764M1880 2720L1880 2764M2250 2720L2250 2764M2620 2720L2620 2764M2990 2720L2990 2764M3360 2720L3360 2764M3730 2720L3730 2764M4100 2720L4100 2764\"/>\n",
       "<desc>Y-Axis Ticks =====</desc>\n",
       "<desc>Y-Axis tickmarks</desc>\n",
       " <path fill=\"none\" stroke-width=\"7.2\" stroke=\"Black\" d=\"M400 2720L367 2720M400 2515L367 2515M400 2309L367 2309M400 2104L367 2104M400 1898L367 1898M400 1693L367 1693M400 1487L367 1487M400 1282L367 1282M400 1076L367 1076M400 871L367 871M400 665L367 665M400 460L367 460\"/>\n",
       "<desc>Axes =====</desc>\n",
       " <path fill=\"none\" stroke-width=\"12\" stroke=\"Black\" d=\"M400 2764L400 416M356 2720L4144 2720\"/>\n",
       "<desc>Y-axis labels</desc>\n",
       " <g font-family=\"Times New Roman\" font-size=\"80\" text-anchor=\"end\" >\n",
       "  <text x=\"335\" y=\"2740\" >-6</text>\n",
       "  <text x=\"335\" y=\"2535\" >-5</text>\n",
       "  <text x=\"335\" y=\"2329\" >-4</text>\n",
       "  <text x=\"335\" y=\"2124\" >-3</text>\n",
       "  <text x=\"335\" y=\"1918\" >-2</text>\n",
       "  <text x=\"335\" y=\"1713\" >-1</text>\n",
       "  <text x=\"335\" y=\"1507\" >0</text>\n",
       "  <text x=\"335\" y=\"1302\" >1</text>\n",
       "  <text x=\"335\" y=\"1096\" >2</text>\n",
       "  <text x=\"335\" y=\"891\" >3</text>\n",
       "  <text x=\"335\" y=\"685\" >4</text>\n",
       "  <text x=\"335\" y=\"480\" >5</text>\n",
       " </g>\n",
       "<desc>for X-axis labels</desc>\n",
       " <g font-family=\"Times New Roman\" font-size=\"80\" text-anchor=\"middle\" >\n",
       "  <text x=\"400\" y=\"2844\" >0</text>\n",
       "  <text x=\"770\" y=\"2844\" >10</text>\n",
       "  <text x=\"1140\" y=\"2844\" >20</text>\n",
       "  <text x=\"1510\" y=\"2844\" >30</text>\n",
       "  <text x=\"1880\" y=\"2844\" >40</text>\n",
       "  <text x=\"2250\" y=\"2844\" >50</text>\n",
       "  <text x=\"2620\" y=\"2844\" >60</text>\n",
       "  <text x=\"2990\" y=\"2844\" >70</text>\n",
       "  <text x=\"3360\" y=\"2844\" >80</text>\n",
       "  <text x=\"3730\" y=\"2844\" >90</text>\n",
       "  <text x=\"4100\" y=\"2844\" >100</text>\n",
       " </g>\n",
       "<desc>Heading, subheading and footnotes =====</desc>\n",
       "<desc>Start of Line Chart ===========</desc>\n",
       "<desc>Points follow ...</desc>\n",
       "<desc>Line</desc>\n",
       " <g stroke-width=\"3\" stroke=\"Navy\" stroke-linejoin=\"round\" stroke-linecap=\"round\" fill=\"none\" >\n",
       "  <path d=\"M4100 1563L4063 1650 4026 1637 3989 1594 3952 1660 3915 1746 3878 1803 3841 1739 3804 1662 3767 1729 3730 1741 3693 1730 3656 1828 3619 1758 3582 1749 3545 1840 3508 1781 3471 1867 3434 1840 3397 1826 3360 1898 3323 1802 3286 1823 3249 1846 3212 1823 3175 1736 3138 1814 3101 1836 3064 1852 3027 1934 2990 1895 2953 1925 2916 1870 2879 1819 2842 1871 2805 1821 2768 1776 2731 1804 2694 1728 2657 1673 2620 1572 2583 1625 2546 1531 2509 1577 2472 1652 2435 1712 2398 1753 2361 1662 2324 1762 2287 1757 2250 1713 2213 1805 2176 1884 2139 1845 2102 1812 2065 1909 2028 1815 1991 1902 1954 1863 1917 1882 1880 1924 1843 1824 1806 1881 1769 1926 1732 2008 1695 1971 1658 2033 1621 2050 1584 2068 1547 2151 1510 2049 1473 2086 1436 2156 1399 2230 1362 2283 1325 2274 1288 2199 1251 2132 1214 2075 1177 2060 1140 1966 1103 1931 1066 1888 1029 1885 992 1839 955 1837 918 1863 881 1842 844 1835 807 1791 770 1857 733 1767 696 1795 659 1722 622 1689 585 1699 548 1673 511 1637 474 1558 437 1564\" />\n",
       " </g>\n",
       "<desc>Points follow ...</desc>\n",
       "<desc>Line</desc>\n",
       " <g stroke-width=\"3\" stroke=\"Maroon\" stroke-linejoin=\"round\" stroke-linecap=\"round\" stroke-dasharray=\"9 12\" fill=\"none\" >\n",
       "  <path d=\"M4100 808L4063 733 4026 645 3989 696 3952 788 3915 738 3878 799 3841 727 3804 639 3767 537 3730 488 3693 580 3656 631 3619 727 3582 794 3545 768 3508 835 3471 873 3434 842 3397 810 3360 725 3323 710 3286 620 3249 574 3212 625 3175 581 3138 681 3101 612 3064 593 3027 523 2990 605 2953 640 2916 626 2879 638 2842 651 2805 714 2768 810 2731 808 2694 723 2657 820 2620 857 2583 890 2546 971 2509 1052 2472 1067 2435 1066 2398 1156 2361 1202 2324 1201 2287 1223 2250 1298 2213 1319 2176 1351 2139 1308 2102 1210 2065 1267 2028 1294 1991 1306 1954 1363 1917 1264 1880 1280 1843 1250 1806 1305 1769 1345 1732 1314 1695 1348 1658 1356 1621 1444 1584 1471 1547 1473 1510 1540 1473 1529 1436 1621 1399 1558 1362 1617 1325 1593 1288 1663 1251 1719 1214 1677 1177 1620 1140 1546 1103 1455 1066 1447 1029 1436 992 1446 955 1459 918 1510 881 1449 844 1491 807 1511 770 1562 733 1661 696 1631 659 1553 622 1463 585 1400 548 1472 511 1421 474 1384 437 1482\" />\n",
       " </g>\n",
       "<desc>Points follow ...</desc>\n",
       "<desc>Line</desc>\n",
       " <g stroke-width=\"3\" stroke=\"Teal\" stroke-linejoin=\"round\" stroke-linecap=\"round\" stroke-dasharray=\"0.3 5.7\" fill=\"none\" >\n",
       "  <path d=\"M4100 2312L4063 2307 4026 2252 3989 2309 3952 2228 3915 2326 3878 2282 3841 2292 3804 2353 3767 2371 3730 2421 3693 2524 3656 2506 3619 2604 3582 2564 3545 2647 3508 2583 3471 2667 3434 2574 3397 2504 3360 2408 3323 2410 3286 2399 3249 2427 3212 2460 3175 2437 3138 2366 3101 2446 3064 2353 3027 2279 2990 2358 2953 2286 2916 2330 2879 2365 2842 2293 2805 2206 2768 2117 2731 2215 2694 2284 2657 2365 2620 2396 2583 2333 2546 2317 2509 2387 2472 2346 2435 2283 2398 2215 2361 2303 2324 2324 2287 2405 2250 2371 2213 2294 2176 2328 2139 2338 2102 2269 2065 2235 2028 2336 1991 2348 1954 2407 1917 2346 1880 2381 1843 2316 1806 2219 1769 2119 1732 2029 1695 1980 1658 1999 1621 1908 1584 1809 1547 1860 1510 1869 1473 1874 1436 1782 1399 1795 1362 1751 1325 1846 1288 1762 1251 1764 1214 1665 1177 1584 1140 1652 1103 1640 1066 1668 1029 1614 992 1560 955 1564 918 1565 881 1492 844 1493 807 1526 770 1564 733 1637 696 1631 659 1548 622 1607 585 1542 548 1586 511 1653 474 1646 437 1586\" />\n",
       " </g>\n",
       "<desc>Points follow ...</desc>\n",
       "<desc>Line</desc>\n",
       " <g stroke-width=\"3\" stroke=\"Green\" stroke-linejoin=\"round\" stroke-linecap=\"round\" stroke-dasharray=\"9 6.45 0.3 6.45\" fill=\"none\" >\n",
       "  <path d=\"M4100 1636L4063 1654 4026 1738 3989 1671 3952 1725 3915 1673 3878 1664 3841 1752 3804 1790 3767 1885 3730 1825 3693 1731 3656 1785 3619 1848 3582 1802 3545 1700 3508 1689 3471 1725 3434 1745 3397 1769 3360 1814 3323 1812 3286 1736 3249 1653 3212 1620 3175 1662 3138 1680 3101 1611 3064 1604 3027 1532 2990 1462 2953 1406 2916 1337 2879 1349 2842 1297 2805 1255 2768 1320 2731 1395 2694 1497 2657 1531 2620 1630 2583 1657 2546 1651 2509 1596 2472 1641 2435 1729 2398 1703 2361 1803 2324 1712 2287 1656 2250 1623 2213 1560 2176 1620 2139 1666 2102 1709 2065 1738 2028 1661 1991 1624 1954 1609 1917 1598 1880 1696 1843 1695 1806 1637 1769 1614 1732 1592 1695 1513 1658 1597 1621 1582 1584 1511 1547 1552 1510 1497 1473 1536 1436 1455 1399 1551 1362 1508 1325 1475 1288 1410 1251 1496 1214 1558 1177 1543 1140 1601 1103 1520 1066 1539 1029 1609 992 1688 955 1701 918 1682 881 1749 844 1671 807 1649 770 1612 733 1702 696 1687 659 1752 622 1781 585 1710 548 1637 511 1573 474 1521 437 1517\" />\n",
       " </g>\n",
       "<desc>Points follow ...</desc>\n",
       "<desc>Line</desc>\n",
       " <g stroke-width=\"3\" stroke=\"Purple\" stroke-linejoin=\"round\" stroke-linecap=\"round\" fill=\"none\" >\n",
       "  <path d=\"M4100 1586L4063 1657 4026 1718 3989 1705 3952 1672 3915 1654 3878 1563 3841 1487 3804 1577 3767 1485 3730 1583 3693 1594 3656 1610 3619 1670 3582 1706 3545 1718 3508 1708 3471 1613 3434 1569 3397 1663 3360 1735 3323 1664 3286 1742 3249 1691 3212 1593 3175 1540 3138 1589 3101 1547 3064 1628 3027 1571 2990 1517 2953 1548 2916 1534 2879 1623 2842 1584 2805 1522 2768 1493 2731 1440 2694 1514 2657 1495 2620 1395 2583 1384 2546 1368 2509 1387 2472 1296 2435 1305 2398 1391 2361 1389 2324 1306 2287 1366 2250 1388 2213 1363 2176 1292 2139 1334 2102 1299 2065 1325 2028 1391 1991 1319 1954 1316 1917 1392 1880 1492 1843 1493 1806 1461 1769 1504 1732 1481 1695 1554 1658 1537 1621 1633 1584 1685 1547 1676 1510 1584 1473 1547 1436 1624 1399 1657 1362 1738 1325 1701 1288 1774 1251 1733 1214 1788 1177 1845 1140 1859 1103 1763 1066 1803 1029 1799 992 1851 955 1796 918 1779 881 1696 844 1694 807 1659 770 1759 733 1675 696 1600 659 1588 622 1561 585 1589 548 1630 511 1562 474 1463 437 1489\" />\n",
       " </g>\n",
       "<desc>Reset to original origin</desc>\n",
       "</g>\n",
       "</svg>\n",
       "</svg>"
      ]
     },
     "execution_count": 5,
     "metadata": {},
     "output_type": "execute_result"
    }
   ],
   "source": [
    "View sp"
   ]
  },
  {
   "cell_type": "code",
   "execution_count": 6,
   "metadata": {},
   "outputs": [],
   "source": [
    "⎕io ← 0\n",
    "results ← ¯1 0 1[?60⍴3]"
   ]
  },
  {
   "cell_type": "code",
   "execution_count": 15,
   "metadata": {},
   "outputs": [
    {
     "data": {
      "text/html": [
       "<span style=\"white-space:pre; font-family: monospace\">0 0 0 0 0 0 0 0 1 0 0 1 0 0 0 0 0 0 0 0 1 0 0 0 1 0 0 0 1 1 1 0 0 0 1 0 0 0 1 1 0 0 0 0 0 0 0 0 0 1 1 1 0 0 0 0 0 0 0 0\n",
       "0 1 1 1 0 0 1 0 0 0 1 0 1 0 1 0 0 0 1 1 0 0 1 1 0 0 1 0 0 0 0 0 1 0 0 1 1 1 0 0 1 0 0 0 1 1 0 0 1 0 0 0 0 1 1 1 0 1 1 0\n",
       "1 0 0 0 1 1 0 1 0 1 0 0 0 1 0 1 1 1 0 0 0 1 0 0 0 1 0 1 0 0 0 1 0 1 0 0 0 0 0 0 0 1 1 1 0 0 1 1 0 0 0 0 1 0 0 0 1 0 0 1\n",
       "</span>"
      ]
     },
     "execution_count": 15,
     "metadata": {},
     "output_type": "execute_result"
    }
   ],
   "source": [
    "⊢which ← ¯1 0 1∘.=results"
   ]
  },
  {
   "cell_type": "code",
   "execution_count": 13,
   "metadata": {},
   "outputs": [
    {
     "data": {
      "text/html": [
       "<span style=\"white-space:pre; font-family: monospace\">0 0 0 0 0 0 0 0 1 1 1 2 2 2 2 2 2 2 2 2 3  3  3  3  4  4  4  4  5  6  7  7  7  7  8  8  8  8  9 10 10 10 10 10 10 10 10 10 10 11 12 13 13 13 13 13 13 13 13 13\n",
       "0 1 2 3 3 3 4 4 4 4 5 5 6 6 7 7 7 7 8 9 9  9 10 11 11 11 12 12 12 12 12 12 13 13 13 14 15 16 16 16 17 17 17 17 18 19 19 19 20 20 20 20 20 21 22 23 23 24 25 25\n",
       "1 1 1 1 2 3 3 4 4 5 5 5 5 6 6 7 8 9 9 9 9 10 10 10 10 11 11 12 12 12 12 13 13 14 14 14 14 14 14 14 14 15 16 17 17 17 18 19 19 19 19 19 20 20 20 20 21 21 21 22\n",
       "</span>"
      ]
     },
     "execution_count": 13,
     "metadata": {},
     "output_type": "execute_result"
    }
   ],
   "source": [
    "+\\which"
   ]
  },
  {
   "cell_type": "code",
   "execution_count": 16,
   "metadata": {},
   "outputs": [
    {
     "data": {
      "text/html": [
       "<span style=\"white-space:pre; font-family: monospace\">was \n",
       "</span>"
      ]
     },
     "execution_count": 16,
     "metadata": {},
     "output_type": "execute_result"
    }
   ],
   "source": [
    ")wsid plot"
   ]
  },
  {
   "cell_type": "code",
   "execution_count": 17,
   "metadata": {},
   "outputs": [
    {
     "data": {
      "text/html": [
       "<span style=\"white-space:pre; font-family: monospace\">plot.dws saved Mon Dec 21 16:32:17 2020\n",
       "</span>"
      ]
     },
     "execution_count": 17,
     "metadata": {},
     "output_type": "execute_result"
    }
   ],
   "source": [
    ")save "
   ]
  },
  {
   "cell_type": "code",
   "execution_count": null,
   "metadata": {},
   "outputs": [],
   "source": []
  }
 ],
 "metadata": {
  "kernelspec": {
   "display_name": "Dyalog APL",
   "language": "apl",
   "name": "dyalog-kernel"
  },
  "language_info": {
   "file_extension": ".apl",
   "mimetype": "text/apl",
   "name": "APL"
  }
 },
 "nbformat": 4,
 "nbformat_minor": 4
}
